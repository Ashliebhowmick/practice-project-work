{
 "cells": [
  {
   "cell_type": "code",
   "execution_count": 71,
   "id": "50ec376f",
   "metadata": {},
   "outputs": [],
   "source": [
    "# importing the necessary libraries\n",
    "import pandas as pd\n",
    "import numpy as np\n",
    "import seaborn as sns\n",
    "import matplotlib.pyplot as plt\n",
    "import warnings\n",
    "warnings.filterwarnings('ignore')\n",
    "import matplotlib.pyplot as plt\n",
    "from sklearn.svm import SVR\n",
    "from sklearn import model_selection\n",
    "from sklearn.linear_model import LinearRegression\n",
    "from sklearn.ensemble import RandomForestRegressor\n",
    "from sklearn.preprocessing import OrdinalEncoder, StandardScaler\n",
    "from sklearn.neighbors import KNeighborsRegressor as KNN\n",
    "from sklearn.model_selection import train_test_split\n",
    "from sklearn.metrics import accuracy_score,confusion_matrix\n",
    "from scipy.stats import zscore\n",
    "from sklearn.ensemble import ExtraTreesRegressor\n",
    "from sklearn.metrics import confusion_matrix,classification_report, accuracy_score, roc_curve, roc_auc_score\n",
    "from sklearn.model_selection import train_test_split, cross_val_score,GridSearchCV\n",
    "\n"
   ]
  },
  {
   "cell_type": "code",
   "execution_count": 72,
   "id": "f896c14d",
   "metadata": {},
   "outputs": [],
   "source": [
    "#calling the train file\n",
    "train=pd.read_excel('Data_Train.xlsx')"
   ]
  },
  {
   "cell_type": "code",
   "execution_count": 73,
   "id": "cb3fb1dc",
   "metadata": {},
   "outputs": [
    {
     "data": {
      "text/html": [
       "<div>\n",
       "<style scoped>\n",
       "    .dataframe tbody tr th:only-of-type {\n",
       "        vertical-align: middle;\n",
       "    }\n",
       "\n",
       "    .dataframe tbody tr th {\n",
       "        vertical-align: top;\n",
       "    }\n",
       "\n",
       "    .dataframe thead th {\n",
       "        text-align: right;\n",
       "    }\n",
       "</style>\n",
       "<table border=\"1\" class=\"dataframe\">\n",
       "  <thead>\n",
       "    <tr style=\"text-align: right;\">\n",
       "      <th></th>\n",
       "      <th>TITLE</th>\n",
       "      <th>RESTAURANT_ID</th>\n",
       "      <th>CUISINES</th>\n",
       "      <th>TIME</th>\n",
       "      <th>CITY</th>\n",
       "      <th>LOCALITY</th>\n",
       "      <th>RATING</th>\n",
       "      <th>VOTES</th>\n",
       "      <th>COST</th>\n",
       "    </tr>\n",
       "  </thead>\n",
       "  <tbody>\n",
       "    <tr>\n",
       "      <th>0</th>\n",
       "      <td>CASUAL DINING</td>\n",
       "      <td>9438</td>\n",
       "      <td>Malwani, Goan, North Indian</td>\n",
       "      <td>11am – 4pm, 7:30pm – 11:30pm (Mon-Sun)</td>\n",
       "      <td>Thane</td>\n",
       "      <td>Dombivali East</td>\n",
       "      <td>3.6</td>\n",
       "      <td>49 votes</td>\n",
       "      <td>1200</td>\n",
       "    </tr>\n",
       "    <tr>\n",
       "      <th>1</th>\n",
       "      <td>CASUAL DINING,BAR</td>\n",
       "      <td>13198</td>\n",
       "      <td>Asian, Modern Indian, Japanese</td>\n",
       "      <td>6pm – 11pm (Mon-Sun)</td>\n",
       "      <td>Chennai</td>\n",
       "      <td>Ramapuram</td>\n",
       "      <td>4.2</td>\n",
       "      <td>30 votes</td>\n",
       "      <td>1500</td>\n",
       "    </tr>\n",
       "    <tr>\n",
       "      <th>2</th>\n",
       "      <td>CASUAL DINING</td>\n",
       "      <td>10915</td>\n",
       "      <td>North Indian, Chinese, Biryani, Hyderabadi</td>\n",
       "      <td>11am – 3:30pm, 7pm – 11pm (Mon-Sun)</td>\n",
       "      <td>Chennai</td>\n",
       "      <td>Saligramam</td>\n",
       "      <td>3.8</td>\n",
       "      <td>221 votes</td>\n",
       "      <td>800</td>\n",
       "    </tr>\n",
       "    <tr>\n",
       "      <th>3</th>\n",
       "      <td>QUICK BITES</td>\n",
       "      <td>6346</td>\n",
       "      <td>Tibetan, Chinese</td>\n",
       "      <td>11:30am – 1am (Mon-Sun)</td>\n",
       "      <td>Mumbai</td>\n",
       "      <td>Bandra West</td>\n",
       "      <td>4.1</td>\n",
       "      <td>24 votes</td>\n",
       "      <td>800</td>\n",
       "    </tr>\n",
       "    <tr>\n",
       "      <th>4</th>\n",
       "      <td>DESSERT PARLOR</td>\n",
       "      <td>15387</td>\n",
       "      <td>Desserts</td>\n",
       "      <td>11am – 1am (Mon-Sun)</td>\n",
       "      <td>Mumbai</td>\n",
       "      <td>Lower Parel</td>\n",
       "      <td>3.8</td>\n",
       "      <td>165 votes</td>\n",
       "      <td>300</td>\n",
       "    </tr>\n",
       "    <tr>\n",
       "      <th>...</th>\n",
       "      <td>...</td>\n",
       "      <td>...</td>\n",
       "      <td>...</td>\n",
       "      <td>...</td>\n",
       "      <td>...</td>\n",
       "      <td>...</td>\n",
       "      <td>...</td>\n",
       "      <td>...</td>\n",
       "      <td>...</td>\n",
       "    </tr>\n",
       "    <tr>\n",
       "      <th>12685</th>\n",
       "      <td>QUICK BITES</td>\n",
       "      <td>13228</td>\n",
       "      <td>North Indian, Burger, Kebab</td>\n",
       "      <td>12noon – 12midnight (Mon, Tue, Wed, Thu, Sun)...</td>\n",
       "      <td>Hyderabad</td>\n",
       "      <td>Gachibowli</td>\n",
       "      <td>3.8</td>\n",
       "      <td>546 votes</td>\n",
       "      <td>500</td>\n",
       "    </tr>\n",
       "    <tr>\n",
       "      <th>12686</th>\n",
       "      <td>CASUAL DINING,BAR</td>\n",
       "      <td>9686</td>\n",
       "      <td>Goan, Continental</td>\n",
       "      <td>12noon – 1am (Mon-Fri),11am – 5pm, 7pm – 1am...</td>\n",
       "      <td>Mumbai</td>\n",
       "      <td>Bandra Kurla Complex</td>\n",
       "      <td>4.3</td>\n",
       "      <td>1214 votes</td>\n",
       "      <td>1800</td>\n",
       "    </tr>\n",
       "    <tr>\n",
       "      <th>12687</th>\n",
       "      <td>LOUNGE</td>\n",
       "      <td>11133</td>\n",
       "      <td>Finger Food, Continental, Asian, Chinese</td>\n",
       "      <td>12noon – 12:30AM (Mon-Sun)</td>\n",
       "      <td>Navi Mumbai</td>\n",
       "      <td>Vashi</td>\n",
       "      <td>4.0</td>\n",
       "      <td>608 votes</td>\n",
       "      <td>1300</td>\n",
       "    </tr>\n",
       "    <tr>\n",
       "      <th>12688</th>\n",
       "      <td>CASUAL DINING</td>\n",
       "      <td>6134</td>\n",
       "      <td>North Indian, South Indian, Chinese, Street Food</td>\n",
       "      <td>6am – 10:45pm (Mon-Sun)</td>\n",
       "      <td>Chennai</td>\n",
       "      <td>Maduravoyal</td>\n",
       "      <td>3.5</td>\n",
       "      <td>32 votes</td>\n",
       "      <td>400</td>\n",
       "    </tr>\n",
       "    <tr>\n",
       "      <th>12689</th>\n",
       "      <td>CASUAL DINING</td>\n",
       "      <td>6430</td>\n",
       "      <td>North Indian, Chinese</td>\n",
       "      <td>12:30pm – 11pm (Mon-Sun)</td>\n",
       "      <td>Hyderabad</td>\n",
       "      <td>Vanasthalipuram</td>\n",
       "      <td>3.4</td>\n",
       "      <td>677 votes</td>\n",
       "      <td>600</td>\n",
       "    </tr>\n",
       "  </tbody>\n",
       "</table>\n",
       "<p>12690 rows × 9 columns</p>\n",
       "</div>"
      ],
      "text/plain": [
       "                   TITLE  RESTAURANT_ID  \\\n",
       "0          CASUAL DINING           9438   \n",
       "1      CASUAL DINING,BAR          13198   \n",
       "2          CASUAL DINING          10915   \n",
       "3            QUICK BITES           6346   \n",
       "4         DESSERT PARLOR          15387   \n",
       "...                  ...            ...   \n",
       "12685        QUICK BITES          13228   \n",
       "12686  CASUAL DINING,BAR           9686   \n",
       "12687             LOUNGE          11133   \n",
       "12688      CASUAL DINING           6134   \n",
       "12689      CASUAL DINING           6430   \n",
       "\n",
       "                                               CUISINES  \\\n",
       "0                           Malwani, Goan, North Indian   \n",
       "1                        Asian, Modern Indian, Japanese   \n",
       "2            North Indian, Chinese, Biryani, Hyderabadi   \n",
       "3                                      Tibetan, Chinese   \n",
       "4                                              Desserts   \n",
       "...                                                 ...   \n",
       "12685                       North Indian, Burger, Kebab   \n",
       "12686                                 Goan, Continental   \n",
       "12687          Finger Food, Continental, Asian, Chinese   \n",
       "12688  North Indian, South Indian, Chinese, Street Food   \n",
       "12689                             North Indian, Chinese   \n",
       "\n",
       "                                                   TIME         CITY  \\\n",
       "0                11am – 4pm, 7:30pm – 11:30pm (Mon-Sun)        Thane   \n",
       "1                                  6pm – 11pm (Mon-Sun)      Chennai   \n",
       "2                   11am – 3:30pm, 7pm – 11pm (Mon-Sun)      Chennai   \n",
       "3                               11:30am – 1am (Mon-Sun)       Mumbai   \n",
       "4                                  11am – 1am (Mon-Sun)       Mumbai   \n",
       "...                                                 ...          ...   \n",
       "12685  12noon – 12midnight (Mon, Tue, Wed, Thu, Sun)...    Hyderabad   \n",
       "12686   12noon – 1am (Mon-Fri),11am – 5pm, 7pm – 1am...       Mumbai   \n",
       "12687                        12noon – 12:30AM (Mon-Sun)  Navi Mumbai   \n",
       "12688                           6am – 10:45pm (Mon-Sun)      Chennai   \n",
       "12689                          12:30pm – 11pm (Mon-Sun)    Hyderabad   \n",
       "\n",
       "                   LOCALITY RATING       VOTES  COST  \n",
       "0            Dombivali East    3.6    49 votes  1200  \n",
       "1                 Ramapuram    4.2    30 votes  1500  \n",
       "2                Saligramam    3.8   221 votes   800  \n",
       "3               Bandra West    4.1    24 votes   800  \n",
       "4               Lower Parel    3.8   165 votes   300  \n",
       "...                     ...    ...         ...   ...  \n",
       "12685            Gachibowli    3.8   546 votes   500  \n",
       "12686  Bandra Kurla Complex    4.3  1214 votes  1800  \n",
       "12687                 Vashi    4.0   608 votes  1300  \n",
       "12688           Maduravoyal    3.5    32 votes   400  \n",
       "12689       Vanasthalipuram    3.4   677 votes   600  \n",
       "\n",
       "[12690 rows x 9 columns]"
      ]
     },
     "execution_count": 73,
     "metadata": {},
     "output_type": "execute_result"
    }
   ],
   "source": [
    "train"
   ]
  },
  {
   "cell_type": "markdown",
   "id": "b8496ec3",
   "metadata": {},
   "source": [
    "There are 12690 rows and 9 columns"
   ]
  },
  {
   "cell_type": "code",
   "execution_count": 74,
   "id": "38cfd58f",
   "metadata": {},
   "outputs": [],
   "source": [
    "#calling test file\n",
    "test=pd.read_excel('Data_Test.xlsx')"
   ]
  },
  {
   "cell_type": "code",
   "execution_count": 75,
   "id": "907847f4",
   "metadata": {},
   "outputs": [
    {
     "data": {
      "text/html": [
       "<div>\n",
       "<style scoped>\n",
       "    .dataframe tbody tr th:only-of-type {\n",
       "        vertical-align: middle;\n",
       "    }\n",
       "\n",
       "    .dataframe tbody tr th {\n",
       "        vertical-align: top;\n",
       "    }\n",
       "\n",
       "    .dataframe thead th {\n",
       "        text-align: right;\n",
       "    }\n",
       "</style>\n",
       "<table border=\"1\" class=\"dataframe\">\n",
       "  <thead>\n",
       "    <tr style=\"text-align: right;\">\n",
       "      <th></th>\n",
       "      <th>TITLE</th>\n",
       "      <th>RESTAURANT_ID</th>\n",
       "      <th>CUISINES</th>\n",
       "      <th>TIME</th>\n",
       "      <th>CITY</th>\n",
       "      <th>LOCALITY</th>\n",
       "      <th>RATING</th>\n",
       "      <th>VOTES</th>\n",
       "    </tr>\n",
       "  </thead>\n",
       "  <tbody>\n",
       "    <tr>\n",
       "      <th>0</th>\n",
       "      <td>CASUAL DINING</td>\n",
       "      <td>4085</td>\n",
       "      <td>North Indian, Chinese, Mughlai, Kebab</td>\n",
       "      <td>12noon – 12midnight (Mon-Sun)</td>\n",
       "      <td>Noida</td>\n",
       "      <td>Sector 18</td>\n",
       "      <td>4.3</td>\n",
       "      <td>564 votes</td>\n",
       "    </tr>\n",
       "    <tr>\n",
       "      <th>1</th>\n",
       "      <td>QUICK BITES</td>\n",
       "      <td>12680</td>\n",
       "      <td>South Indian, Fast Food, Pizza, North Indian</td>\n",
       "      <td>7am – 12:30AM (Mon-Sun)</td>\n",
       "      <td>Mumbai</td>\n",
       "      <td>Grant Road</td>\n",
       "      <td>4.2</td>\n",
       "      <td>61 votes</td>\n",
       "    </tr>\n",
       "    <tr>\n",
       "      <th>2</th>\n",
       "      <td>CASUAL DINING</td>\n",
       "      <td>1411</td>\n",
       "      <td>North Indian, Seafood, Biryani, Chinese</td>\n",
       "      <td>11am – 11:30pm (Mon-Sun)</td>\n",
       "      <td>Mumbai</td>\n",
       "      <td>Marine Lines</td>\n",
       "      <td>3.8</td>\n",
       "      <td>350 votes</td>\n",
       "    </tr>\n",
       "    <tr>\n",
       "      <th>3</th>\n",
       "      <td>None</td>\n",
       "      <td>204</td>\n",
       "      <td>Biryani</td>\n",
       "      <td>9am – 10pm (Mon, Wed, Thu, Fri, Sat, Sun), 10:...</td>\n",
       "      <td>Faridabad</td>\n",
       "      <td>NIT</td>\n",
       "      <td>3.8</td>\n",
       "      <td>1445 votes</td>\n",
       "    </tr>\n",
       "    <tr>\n",
       "      <th>4</th>\n",
       "      <td>QUICK BITES</td>\n",
       "      <td>13453</td>\n",
       "      <td>South Indian, Kerala</td>\n",
       "      <td>11am – 10pm (Mon-Sun)</td>\n",
       "      <td>Kochi</td>\n",
       "      <td>Kaloor</td>\n",
       "      <td>3.6</td>\n",
       "      <td>23 votes</td>\n",
       "    </tr>\n",
       "    <tr>\n",
       "      <th>...</th>\n",
       "      <td>...</td>\n",
       "      <td>...</td>\n",
       "      <td>...</td>\n",
       "      <td>...</td>\n",
       "      <td>...</td>\n",
       "      <td>...</td>\n",
       "      <td>...</td>\n",
       "      <td>...</td>\n",
       "    </tr>\n",
       "    <tr>\n",
       "      <th>4226</th>\n",
       "      <td>CASUAL DINING</td>\n",
       "      <td>9057</td>\n",
       "      <td>North Indian, Mughlai, Chinese</td>\n",
       "      <td>11:30am – 11:30pm (Mon-Sun)</td>\n",
       "      <td>New Delhi</td>\n",
       "      <td>Punjabi Bagh</td>\n",
       "      <td>3.9</td>\n",
       "      <td>287 votes</td>\n",
       "    </tr>\n",
       "    <tr>\n",
       "      <th>4227</th>\n",
       "      <td>None</td>\n",
       "      <td>1247</td>\n",
       "      <td>Biryani, North Indian, Sandwich, Salad, Wraps</td>\n",
       "      <td>11am – 1am (Mon-Sun)</td>\n",
       "      <td>Bangalore</td>\n",
       "      <td>HSR Layout</td>\n",
       "      <td>4.3</td>\n",
       "      <td>469 votes</td>\n",
       "    </tr>\n",
       "    <tr>\n",
       "      <th>4228</th>\n",
       "      <td>QUICK BITES</td>\n",
       "      <td>8617</td>\n",
       "      <td>Continental, North Indian</td>\n",
       "      <td>9:30am – 10:30pm (Mon-Sun)</td>\n",
       "      <td>Faridabad</td>\n",
       "      <td>Sector 86</td>\n",
       "      <td>3.7</td>\n",
       "      <td>53 votes</td>\n",
       "    </tr>\n",
       "    <tr>\n",
       "      <th>4229</th>\n",
       "      <td>QUICK BITES</td>\n",
       "      <td>6485</td>\n",
       "      <td>Rolls, Beverages</td>\n",
       "      <td>11am – 11:30pm (Mon, Tue, Wed, Thu, Sat, Sun),...</td>\n",
       "      <td>Kochi</td>\n",
       "      <td>Kochi</td>\n",
       "      <td>-</td>\n",
       "      <td>NaN</td>\n",
       "    </tr>\n",
       "    <tr>\n",
       "      <th>4230</th>\n",
       "      <td>QUICK BITES</td>\n",
       "      <td>2421</td>\n",
       "      <td>Mughlai</td>\n",
       "      <td>5pm – 1am (Mon-Sun)</td>\n",
       "      <td>Bandra West</td>\n",
       "      <td>Perry Cross Road</td>\n",
       "      <td>3.7</td>\n",
       "      <td>63 votes</td>\n",
       "    </tr>\n",
       "  </tbody>\n",
       "</table>\n",
       "<p>4231 rows × 8 columns</p>\n",
       "</div>"
      ],
      "text/plain": [
       "              TITLE  RESTAURANT_ID  \\\n",
       "0     CASUAL DINING           4085   \n",
       "1       QUICK BITES          12680   \n",
       "2     CASUAL DINING           1411   \n",
       "3              None            204   \n",
       "4       QUICK BITES          13453   \n",
       "...             ...            ...   \n",
       "4226  CASUAL DINING           9057   \n",
       "4227           None           1247   \n",
       "4228    QUICK BITES           8617   \n",
       "4229    QUICK BITES           6485   \n",
       "4230    QUICK BITES           2421   \n",
       "\n",
       "                                           CUISINES  \\\n",
       "0             North Indian, Chinese, Mughlai, Kebab   \n",
       "1      South Indian, Fast Food, Pizza, North Indian   \n",
       "2           North Indian, Seafood, Biryani, Chinese   \n",
       "3                                           Biryani   \n",
       "4                              South Indian, Kerala   \n",
       "...                                             ...   \n",
       "4226                 North Indian, Mughlai, Chinese   \n",
       "4227  Biryani, North Indian, Sandwich, Salad, Wraps   \n",
       "4228                      Continental, North Indian   \n",
       "4229                               Rolls, Beverages   \n",
       "4230                                        Mughlai   \n",
       "\n",
       "                                                   TIME         CITY  \\\n",
       "0                         12noon – 12midnight (Mon-Sun)        Noida   \n",
       "1                               7am – 12:30AM (Mon-Sun)       Mumbai   \n",
       "2                              11am – 11:30pm (Mon-Sun)       Mumbai   \n",
       "3     9am – 10pm (Mon, Wed, Thu, Fri, Sat, Sun), 10:...    Faridabad   \n",
       "4                                 11am – 10pm (Mon-Sun)        Kochi   \n",
       "...                                                 ...          ...   \n",
       "4226                        11:30am – 11:30pm (Mon-Sun)    New Delhi   \n",
       "4227                               11am – 1am (Mon-Sun)    Bangalore   \n",
       "4228                         9:30am – 10:30pm (Mon-Sun)    Faridabad   \n",
       "4229  11am – 11:30pm (Mon, Tue, Wed, Thu, Sat, Sun),...        Kochi   \n",
       "4230                                5pm – 1am (Mon-Sun)  Bandra West   \n",
       "\n",
       "              LOCALITY RATING       VOTES  \n",
       "0            Sector 18    4.3   564 votes  \n",
       "1           Grant Road    4.2    61 votes  \n",
       "2         Marine Lines    3.8   350 votes  \n",
       "3                  NIT    3.8  1445 votes  \n",
       "4               Kaloor    3.6    23 votes  \n",
       "...                ...    ...         ...  \n",
       "4226      Punjabi Bagh    3.9   287 votes  \n",
       "4227        HSR Layout    4.3   469 votes  \n",
       "4228         Sector 86    3.7    53 votes  \n",
       "4229             Kochi      -         NaN  \n",
       "4230  Perry Cross Road    3.7    63 votes  \n",
       "\n",
       "[4231 rows x 8 columns]"
      ]
     },
     "execution_count": 75,
     "metadata": {},
     "output_type": "execute_result"
    }
   ],
   "source": [
    "test"
   ]
  },
  {
   "cell_type": "markdown",
   "id": "e81ee1a7",
   "metadata": {},
   "source": [
    "There are 4231 rows and 8 columns."
   ]
  },
  {
   "cell_type": "code",
   "execution_count": 76,
   "id": "80b52268",
   "metadata": {},
   "outputs": [
    {
     "data": {
      "text/plain": [
       "(Index(['TITLE', 'RESTAURANT_ID', 'CUISINES', 'TIME', 'CITY', 'LOCALITY',\n",
       "        'RATING', 'VOTES', 'COST'],\n",
       "       dtype='object'),\n",
       " Index(['TITLE', 'RESTAURANT_ID', 'CUISINES', 'TIME', 'CITY', 'LOCALITY',\n",
       "        'RATING', 'VOTES'],\n",
       "       dtype='object'))"
      ]
     },
     "execution_count": 76,
     "metadata": {},
     "output_type": "execute_result"
    }
   ],
   "source": [
    "train.columns,test.columns"
   ]
  },
  {
   "cell_type": "markdown",
   "id": "a91ebe88",
   "metadata": {},
   "source": [
    "Names of total columns present in the dataset."
   ]
  },
  {
   "cell_type": "code",
   "execution_count": 77,
   "id": "faedf58c",
   "metadata": {},
   "outputs": [
    {
     "name": "stdout",
     "output_type": "stream",
     "text": [
      "<class 'pandas.core.frame.DataFrame'>\n",
      "RangeIndex: 12690 entries, 0 to 12689\n",
      "Data columns (total 9 columns):\n",
      " #   Column         Non-Null Count  Dtype \n",
      "---  ------         --------------  ----- \n",
      " 0   TITLE          12690 non-null  object\n",
      " 1   RESTAURANT_ID  12690 non-null  int64 \n",
      " 2   CUISINES       12690 non-null  object\n",
      " 3   TIME           12690 non-null  object\n",
      " 4   CITY           12578 non-null  object\n",
      " 5   LOCALITY       12592 non-null  object\n",
      " 6   RATING         12688 non-null  object\n",
      " 7   VOTES          11486 non-null  object\n",
      " 8   COST           12690 non-null  int64 \n",
      "dtypes: int64(2), object(7)\n",
      "memory usage: 892.4+ KB\n",
      "<class 'pandas.core.frame.DataFrame'>\n",
      "RangeIndex: 4231 entries, 0 to 4230\n",
      "Data columns (total 8 columns):\n",
      " #   Column         Non-Null Count  Dtype \n",
      "---  ------         --------------  ----- \n",
      " 0   TITLE          4231 non-null   object\n",
      " 1   RESTAURANT_ID  4231 non-null   int64 \n",
      " 2   CUISINES       4231 non-null   object\n",
      " 3   TIME           4231 non-null   object\n",
      " 4   CITY           4196 non-null   object\n",
      " 5   LOCALITY       4201 non-null   object\n",
      " 6   RATING         4229 non-null   object\n",
      " 7   VOTES          3829 non-null   object\n",
      "dtypes: int64(1), object(7)\n",
      "memory usage: 264.6+ KB\n"
     ]
    }
   ],
   "source": [
    "train.info()\n",
    "test.info()"
   ]
  },
  {
   "cell_type": "markdown",
   "id": "f21140c6",
   "metadata": {},
   "source": [
    "As we can see there are null values in the votes, city, rating, locality columns of  train and test data.\n",
    "the dtype is object only restaurant_id and cost is int64."
   ]
  },
  {
   "cell_type": "code",
   "execution_count": 78,
   "id": "b8690a09",
   "metadata": {},
   "outputs": [
    {
     "data": {
      "text/html": [
       "<div>\n",
       "<style scoped>\n",
       "    .dataframe tbody tr th:only-of-type {\n",
       "        vertical-align: middle;\n",
       "    }\n",
       "\n",
       "    .dataframe tbody tr th {\n",
       "        vertical-align: top;\n",
       "    }\n",
       "\n",
       "    .dataframe thead th {\n",
       "        text-align: right;\n",
       "    }\n",
       "</style>\n",
       "<table border=\"1\" class=\"dataframe\">\n",
       "  <thead>\n",
       "    <tr style=\"text-align: right;\">\n",
       "      <th></th>\n",
       "      <th>TITLE</th>\n",
       "      <th>RESTAURANT_ID</th>\n",
       "      <th>CUISINES</th>\n",
       "      <th>TIME</th>\n",
       "      <th>CITY</th>\n",
       "      <th>LOCALITY</th>\n",
       "      <th>RATING</th>\n",
       "      <th>VOTES</th>\n",
       "      <th>COST</th>\n",
       "    </tr>\n",
       "  </thead>\n",
       "  <tbody>\n",
       "    <tr>\n",
       "      <th>0</th>\n",
       "      <td>CASUAL DINING</td>\n",
       "      <td>9438</td>\n",
       "      <td>Malwani, Goan, North Indian</td>\n",
       "      <td>11am – 4pm, 7:30pm – 11:30pm (Mon-Sun)</td>\n",
       "      <td>Thane</td>\n",
       "      <td>Dombivali East</td>\n",
       "      <td>3.6</td>\n",
       "      <td>49 votes</td>\n",
       "      <td>1200</td>\n",
       "    </tr>\n",
       "    <tr>\n",
       "      <th>1</th>\n",
       "      <td>CASUAL DINING,BAR</td>\n",
       "      <td>13198</td>\n",
       "      <td>Asian, Modern Indian, Japanese</td>\n",
       "      <td>6pm – 11pm (Mon-Sun)</td>\n",
       "      <td>Chennai</td>\n",
       "      <td>Ramapuram</td>\n",
       "      <td>4.2</td>\n",
       "      <td>30 votes</td>\n",
       "      <td>1500</td>\n",
       "    </tr>\n",
       "    <tr>\n",
       "      <th>2</th>\n",
       "      <td>CASUAL DINING</td>\n",
       "      <td>10915</td>\n",
       "      <td>North Indian, Chinese, Biryani, Hyderabadi</td>\n",
       "      <td>11am – 3:30pm, 7pm – 11pm (Mon-Sun)</td>\n",
       "      <td>Chennai</td>\n",
       "      <td>Saligramam</td>\n",
       "      <td>3.8</td>\n",
       "      <td>221 votes</td>\n",
       "      <td>800</td>\n",
       "    </tr>\n",
       "    <tr>\n",
       "      <th>3</th>\n",
       "      <td>QUICK BITES</td>\n",
       "      <td>6346</td>\n",
       "      <td>Tibetan, Chinese</td>\n",
       "      <td>11:30am – 1am (Mon-Sun)</td>\n",
       "      <td>Mumbai</td>\n",
       "      <td>Bandra West</td>\n",
       "      <td>4.1</td>\n",
       "      <td>24 votes</td>\n",
       "      <td>800</td>\n",
       "    </tr>\n",
       "    <tr>\n",
       "      <th>4</th>\n",
       "      <td>DESSERT PARLOR</td>\n",
       "      <td>15387</td>\n",
       "      <td>Desserts</td>\n",
       "      <td>11am – 1am (Mon-Sun)</td>\n",
       "      <td>Mumbai</td>\n",
       "      <td>Lower Parel</td>\n",
       "      <td>3.8</td>\n",
       "      <td>165 votes</td>\n",
       "      <td>300</td>\n",
       "    </tr>\n",
       "  </tbody>\n",
       "</table>\n",
       "</div>"
      ],
      "text/plain": [
       "               TITLE  RESTAURANT_ID  \\\n",
       "0      CASUAL DINING           9438   \n",
       "1  CASUAL DINING,BAR          13198   \n",
       "2      CASUAL DINING          10915   \n",
       "3        QUICK BITES           6346   \n",
       "4     DESSERT PARLOR          15387   \n",
       "\n",
       "                                     CUISINES  \\\n",
       "0                 Malwani, Goan, North Indian   \n",
       "1              Asian, Modern Indian, Japanese   \n",
       "2  North Indian, Chinese, Biryani, Hyderabadi   \n",
       "3                            Tibetan, Chinese   \n",
       "4                                    Desserts   \n",
       "\n",
       "                                     TIME     CITY        LOCALITY RATING  \\\n",
       "0  11am – 4pm, 7:30pm – 11:30pm (Mon-Sun)    Thane  Dombivali East    3.6   \n",
       "1                    6pm – 11pm (Mon-Sun)  Chennai       Ramapuram    4.2   \n",
       "2     11am – 3:30pm, 7pm – 11pm (Mon-Sun)  Chennai      Saligramam    3.8   \n",
       "3                 11:30am – 1am (Mon-Sun)   Mumbai     Bandra West    4.1   \n",
       "4                    11am – 1am (Mon-Sun)   Mumbai     Lower Parel    3.8   \n",
       "\n",
       "       VOTES  COST  \n",
       "0   49 votes  1200  \n",
       "1   30 votes  1500  \n",
       "2  221 votes   800  \n",
       "3   24 votes   800  \n",
       "4  165 votes   300  "
      ]
     },
     "execution_count": 78,
     "metadata": {},
     "output_type": "execute_result"
    }
   ],
   "source": [
    "train.head()\n"
   ]
  },
  {
   "cell_type": "markdown",
   "id": "7b9238ce",
   "metadata": {},
   "source": [
    "First five rows and columns."
   ]
  },
  {
   "cell_type": "code",
   "execution_count": 79,
   "id": "fc054d6f",
   "metadata": {},
   "outputs": [
    {
     "data": {
      "text/html": [
       "<div>\n",
       "<style scoped>\n",
       "    .dataframe tbody tr th:only-of-type {\n",
       "        vertical-align: middle;\n",
       "    }\n",
       "\n",
       "    .dataframe tbody tr th {\n",
       "        vertical-align: top;\n",
       "    }\n",
       "\n",
       "    .dataframe thead th {\n",
       "        text-align: right;\n",
       "    }\n",
       "</style>\n",
       "<table border=\"1\" class=\"dataframe\">\n",
       "  <thead>\n",
       "    <tr style=\"text-align: right;\">\n",
       "      <th></th>\n",
       "      <th>TITLE</th>\n",
       "      <th>RESTAURANT_ID</th>\n",
       "      <th>CUISINES</th>\n",
       "      <th>TIME</th>\n",
       "      <th>CITY</th>\n",
       "      <th>LOCALITY</th>\n",
       "      <th>RATING</th>\n",
       "      <th>VOTES</th>\n",
       "    </tr>\n",
       "  </thead>\n",
       "  <tbody>\n",
       "    <tr>\n",
       "      <th>0</th>\n",
       "      <td>CASUAL DINING</td>\n",
       "      <td>4085</td>\n",
       "      <td>North Indian, Chinese, Mughlai, Kebab</td>\n",
       "      <td>12noon – 12midnight (Mon-Sun)</td>\n",
       "      <td>Noida</td>\n",
       "      <td>Sector 18</td>\n",
       "      <td>4.3</td>\n",
       "      <td>564 votes</td>\n",
       "    </tr>\n",
       "    <tr>\n",
       "      <th>1</th>\n",
       "      <td>QUICK BITES</td>\n",
       "      <td>12680</td>\n",
       "      <td>South Indian, Fast Food, Pizza, North Indian</td>\n",
       "      <td>7am – 12:30AM (Mon-Sun)</td>\n",
       "      <td>Mumbai</td>\n",
       "      <td>Grant Road</td>\n",
       "      <td>4.2</td>\n",
       "      <td>61 votes</td>\n",
       "    </tr>\n",
       "    <tr>\n",
       "      <th>2</th>\n",
       "      <td>CASUAL DINING</td>\n",
       "      <td>1411</td>\n",
       "      <td>North Indian, Seafood, Biryani, Chinese</td>\n",
       "      <td>11am – 11:30pm (Mon-Sun)</td>\n",
       "      <td>Mumbai</td>\n",
       "      <td>Marine Lines</td>\n",
       "      <td>3.8</td>\n",
       "      <td>350 votes</td>\n",
       "    </tr>\n",
       "    <tr>\n",
       "      <th>3</th>\n",
       "      <td>None</td>\n",
       "      <td>204</td>\n",
       "      <td>Biryani</td>\n",
       "      <td>9am – 10pm (Mon, Wed, Thu, Fri, Sat, Sun), 10:...</td>\n",
       "      <td>Faridabad</td>\n",
       "      <td>NIT</td>\n",
       "      <td>3.8</td>\n",
       "      <td>1445 votes</td>\n",
       "    </tr>\n",
       "    <tr>\n",
       "      <th>4</th>\n",
       "      <td>QUICK BITES</td>\n",
       "      <td>13453</td>\n",
       "      <td>South Indian, Kerala</td>\n",
       "      <td>11am – 10pm (Mon-Sun)</td>\n",
       "      <td>Kochi</td>\n",
       "      <td>Kaloor</td>\n",
       "      <td>3.6</td>\n",
       "      <td>23 votes</td>\n",
       "    </tr>\n",
       "  </tbody>\n",
       "</table>\n",
       "</div>"
      ],
      "text/plain": [
       "           TITLE  RESTAURANT_ID                                      CUISINES  \\\n",
       "0  CASUAL DINING           4085         North Indian, Chinese, Mughlai, Kebab   \n",
       "1    QUICK BITES          12680  South Indian, Fast Food, Pizza, North Indian   \n",
       "2  CASUAL DINING           1411       North Indian, Seafood, Biryani, Chinese   \n",
       "3           None            204                                       Biryani   \n",
       "4    QUICK BITES          13453                          South Indian, Kerala   \n",
       "\n",
       "                                                TIME       CITY      LOCALITY  \\\n",
       "0                      12noon – 12midnight (Mon-Sun)      Noida     Sector 18   \n",
       "1                            7am – 12:30AM (Mon-Sun)     Mumbai    Grant Road   \n",
       "2                           11am – 11:30pm (Mon-Sun)     Mumbai  Marine Lines   \n",
       "3  9am – 10pm (Mon, Wed, Thu, Fri, Sat, Sun), 10:...  Faridabad           NIT   \n",
       "4                              11am – 10pm (Mon-Sun)      Kochi        Kaloor   \n",
       "\n",
       "  RATING       VOTES  \n",
       "0    4.3   564 votes  \n",
       "1    4.2    61 votes  \n",
       "2    3.8   350 votes  \n",
       "3    3.8  1445 votes  \n",
       "4    3.6    23 votes  "
      ]
     },
     "execution_count": 79,
     "metadata": {},
     "output_type": "execute_result"
    }
   ],
   "source": [
    "test.head()"
   ]
  },
  {
   "cell_type": "markdown",
   "id": "6c9871c1",
   "metadata": {},
   "source": [
    "First five rows and columns."
   ]
  },
  {
   "cell_type": "code",
   "execution_count": 80,
   "id": "338c039b",
   "metadata": {},
   "outputs": [
    {
     "data": {
      "text/plain": [
       "((12690, 9), (4231, 8))"
      ]
     },
     "execution_count": 80,
     "metadata": {},
     "output_type": "execute_result"
    }
   ],
   "source": [
    "#total count of rows and columns\n",
    "train.shape,test.shape\n"
   ]
  },
  {
   "cell_type": "code",
   "execution_count": 81,
   "id": "88e479cd",
   "metadata": {},
   "outputs": [
    {
     "data": {
      "text/html": [
       "<div>\n",
       "<style scoped>\n",
       "    .dataframe tbody tr th:only-of-type {\n",
       "        vertical-align: middle;\n",
       "    }\n",
       "\n",
       "    .dataframe tbody tr th {\n",
       "        vertical-align: top;\n",
       "    }\n",
       "\n",
       "    .dataframe thead th {\n",
       "        text-align: right;\n",
       "    }\n",
       "</style>\n",
       "<table border=\"1\" class=\"dataframe\">\n",
       "  <thead>\n",
       "    <tr style=\"text-align: right;\">\n",
       "      <th></th>\n",
       "      <th>No of unique values</th>\n",
       "    </tr>\n",
       "  </thead>\n",
       "  <tbody>\n",
       "    <tr>\n",
       "      <th>TITLE</th>\n",
       "      <td>113</td>\n",
       "    </tr>\n",
       "    <tr>\n",
       "      <th>RESTAURANT_ID</th>\n",
       "      <td>11892</td>\n",
       "    </tr>\n",
       "    <tr>\n",
       "      <th>CUISINES</th>\n",
       "      <td>4155</td>\n",
       "    </tr>\n",
       "    <tr>\n",
       "      <th>TIME</th>\n",
       "      <td>2689</td>\n",
       "    </tr>\n",
       "    <tr>\n",
       "      <th>CITY</th>\n",
       "      <td>359</td>\n",
       "    </tr>\n",
       "    <tr>\n",
       "      <th>LOCALITY</th>\n",
       "      <td>1416</td>\n",
       "    </tr>\n",
       "    <tr>\n",
       "      <th>RATING</th>\n",
       "      <td>32</td>\n",
       "    </tr>\n",
       "    <tr>\n",
       "      <th>VOTES</th>\n",
       "      <td>1847</td>\n",
       "    </tr>\n",
       "    <tr>\n",
       "      <th>COST</th>\n",
       "      <td>86</td>\n",
       "    </tr>\n",
       "  </tbody>\n",
       "</table>\n",
       "</div>"
      ],
      "text/plain": [
       "               No of unique values\n",
       "TITLE                          113\n",
       "RESTAURANT_ID                11892\n",
       "CUISINES                      4155\n",
       "TIME                          2689\n",
       "CITY                           359\n",
       "LOCALITY                      1416\n",
       "RATING                          32\n",
       "VOTES                         1847\n",
       "COST                            86"
      ]
     },
     "execution_count": 81,
     "metadata": {},
     "output_type": "execute_result"
    }
   ],
   "source": [
    "#unique values of train dataset\n",
    "train.nunique().to_frame('No of unique values')"
   ]
  },
  {
   "cell_type": "code",
   "execution_count": 82,
   "id": "6e058395",
   "metadata": {},
   "outputs": [
    {
     "data": {
      "text/html": [
       "<div>\n",
       "<style scoped>\n",
       "    .dataframe tbody tr th:only-of-type {\n",
       "        vertical-align: middle;\n",
       "    }\n",
       "\n",
       "    .dataframe tbody tr th {\n",
       "        vertical-align: top;\n",
       "    }\n",
       "\n",
       "    .dataframe thead th {\n",
       "        text-align: right;\n",
       "    }\n",
       "</style>\n",
       "<table border=\"1\" class=\"dataframe\">\n",
       "  <thead>\n",
       "    <tr style=\"text-align: right;\">\n",
       "      <th></th>\n",
       "      <th>No of unique values</th>\n",
       "    </tr>\n",
       "  </thead>\n",
       "  <tbody>\n",
       "    <tr>\n",
       "      <th>TITLE</th>\n",
       "      <td>86</td>\n",
       "    </tr>\n",
       "    <tr>\n",
       "      <th>RESTAURANT_ID</th>\n",
       "      <td>4127</td>\n",
       "    </tr>\n",
       "    <tr>\n",
       "      <th>CUISINES</th>\n",
       "      <td>1727</td>\n",
       "    </tr>\n",
       "    <tr>\n",
       "      <th>TIME</th>\n",
       "      <td>1183</td>\n",
       "    </tr>\n",
       "    <tr>\n",
       "      <th>CITY</th>\n",
       "      <td>151</td>\n",
       "    </tr>\n",
       "    <tr>\n",
       "      <th>LOCALITY</th>\n",
       "      <td>834</td>\n",
       "    </tr>\n",
       "    <tr>\n",
       "      <th>RATING</th>\n",
       "      <td>31</td>\n",
       "    </tr>\n",
       "    <tr>\n",
       "      <th>VOTES</th>\n",
       "      <td>1136</td>\n",
       "    </tr>\n",
       "  </tbody>\n",
       "</table>\n",
       "</div>"
      ],
      "text/plain": [
       "               No of unique values\n",
       "TITLE                           86\n",
       "RESTAURANT_ID                 4127\n",
       "CUISINES                      1727\n",
       "TIME                          1183\n",
       "CITY                           151\n",
       "LOCALITY                       834\n",
       "RATING                          31\n",
       "VOTES                         1136"
      ]
     },
     "execution_count": 82,
     "metadata": {},
     "output_type": "execute_result"
    }
   ],
   "source": [
    "#unique values of test dataset\n",
    "test.nunique().to_frame('No of unique values')"
   ]
  },
  {
   "cell_type": "code",
   "execution_count": 83,
   "id": "a171e479",
   "metadata": {},
   "outputs": [
    {
     "data": {
      "text/plain": [
       "TITLE               0\n",
       "RESTAURANT_ID       0\n",
       "CUISINES            0\n",
       "TIME                0\n",
       "CITY              112\n",
       "LOCALITY           98\n",
       "RATING              2\n",
       "VOTES            1204\n",
       "COST                0\n",
       "dtype: int64"
      ]
     },
     "execution_count": 83,
     "metadata": {},
     "output_type": "execute_result"
    }
   ],
   "source": [
    "#checking for null values\n",
    "train.isnull().sum()"
   ]
  },
  {
   "cell_type": "markdown",
   "id": "4f117859",
   "metadata": {},
   "source": [
    "there are 112 missing values in city,98 in locality, 2 in ratings and 1204 in votes column."
   ]
  },
  {
   "cell_type": "code",
   "execution_count": 84,
   "id": "fd2a3413",
   "metadata": {},
   "outputs": [
    {
     "data": {
      "text/plain": [
       "<Axes: >"
      ]
     },
     "execution_count": 84,
     "metadata": {},
     "output_type": "execute_result"
    },
    {
     "data": {
      "image/png": "[encoded data removed]",
      "text/plain": [
       "<Figure size 640x480 with 2 Axes>"
      ]
     },
     "metadata": {},
     "output_type": "display_data"
    }
   ],
   "source": [
    "#visualization through heatmap of null values\n",
    "sns.heatmap(train.isnull())"
   ]
  },
  {
   "cell_type": "code",
   "execution_count": 85,
   "id": "68dc80f2",
   "metadata": {},
   "outputs": [
    {
     "data": {
      "text/plain": [
       "TITLE              0\n",
       "RESTAURANT_ID      0\n",
       "CUISINES           0\n",
       "TIME               0\n",
       "CITY              35\n",
       "LOCALITY          30\n",
       "RATING             2\n",
       "VOTES            402\n",
       "dtype: int64"
      ]
     },
     "execution_count": 85,
     "metadata": {},
     "output_type": "execute_result"
    }
   ],
   "source": [
    "#checking for null values\n",
    "test.isnull().sum()"
   ]
  },
  {
   "cell_type": "markdown",
   "id": "dd6d61fa",
   "metadata": {},
   "source": [
    "there are 35 missing values in city, 30 in locality, 2 in ratings and 402 in votes."
   ]
  },
  {
   "cell_type": "code",
   "execution_count": 86,
   "id": "8cf17499",
   "metadata": {},
   "outputs": [
    {
     "data": {
      "text/plain": [
       "<Axes: >"
      ]
     },
     "execution_count": 86,
     "metadata": {},
     "output_type": "execute_result"
    },
    {
     "data": {
      "image/png": "[encoded data removed]",
      "text/plain": [
       "<Figure size 640x480 with 2 Axes>"
      ]
     },
     "metadata": {},
     "output_type": "display_data"
    }
   ],
   "source": [
    "#visualization through heatmap of null values\n",
    "sns.heatmap(test.isnull())"
   ]
  },
  {
   "cell_type": "code",
   "execution_count": 87,
   "id": "9d64fffc",
   "metadata": {},
   "outputs": [
    {
     "data": {
      "text/plain": [
       "300      1595\n",
       "400      1357\n",
       "500      1300\n",
       "200      1031\n",
       "600       806\n",
       "         ... \n",
       "8000        1\n",
       "14000       1\n",
       "5200        1\n",
       "80          1\n",
       "70          1\n",
       "Name: COST, Length: 86, dtype: int64"
      ]
     },
     "execution_count": 87,
     "metadata": {},
     "output_type": "execute_result"
    }
   ],
   "source": [
    "train['COST'].value_counts()"
   ]
  },
  {
   "cell_type": "markdown",
   "id": "ecf1a49a",
   "metadata": {},
   "source": [
    "value count of the rows."
   ]
  },
  {
   "cell_type": "code",
   "execution_count": 88,
   "id": "25a59c83",
   "metadata": {},
   "outputs": [
    {
     "data": {
      "text/plain": [
       "<Axes: >"
      ]
     },
     "execution_count": 88,
     "metadata": {},
     "output_type": "execute_result"
    },
    {
     "data": {
      "image/png": "[encoded data removed]",
      "text/plain": [
       "<Figure size 640x480 with 1 Axes>"
      ]
     },
     "metadata": {},
     "output_type": "display_data"
    }
   ],
   "source": [
    "#dropping of duplicates values\n",
    "train.drop_duplicates(inplace=True)\n",
    "sns.boxplot(train)"
   ]
  },
  {
   "cell_type": "code",
   "execution_count": 89,
   "id": "a75f4642",
   "metadata": {},
   "outputs": [
    {
     "data": {
      "text/html": [
       "<div>\n",
       "<style scoped>\n",
       "    .dataframe tbody tr th:only-of-type {\n",
       "        vertical-align: middle;\n",
       "    }\n",
       "\n",
       "    .dataframe tbody tr th {\n",
       "        vertical-align: top;\n",
       "    }\n",
       "\n",
       "    .dataframe thead th {\n",
       "        text-align: right;\n",
       "    }\n",
       "</style>\n",
       "<table border=\"1\" class=\"dataframe\">\n",
       "  <thead>\n",
       "    <tr style=\"text-align: right;\">\n",
       "      <th></th>\n",
       "      <th>RESTAURANT_ID</th>\n",
       "      <th>COST</th>\n",
       "    </tr>\n",
       "  </thead>\n",
       "  <tbody>\n",
       "    <tr>\n",
       "      <th>count</th>\n",
       "      <td>12665.000000</td>\n",
       "      <td>12665.000000</td>\n",
       "    </tr>\n",
       "    <tr>\n",
       "      <th>mean</th>\n",
       "      <td>7757.774734</td>\n",
       "      <td>655.400790</td>\n",
       "    </tr>\n",
       "    <tr>\n",
       "      <th>std</th>\n",
       "      <td>4506.166393</td>\n",
       "      <td>627.389831</td>\n",
       "    </tr>\n",
       "    <tr>\n",
       "      <th>min</th>\n",
       "      <td>0.000000</td>\n",
       "      <td>20.000000</td>\n",
       "    </tr>\n",
       "    <tr>\n",
       "      <th>25%</th>\n",
       "      <td>3861.000000</td>\n",
       "      <td>300.000000</td>\n",
       "    </tr>\n",
       "    <tr>\n",
       "      <th>50%</th>\n",
       "      <td>7739.000000</td>\n",
       "      <td>500.000000</td>\n",
       "    </tr>\n",
       "    <tr>\n",
       "      <th>75%</th>\n",
       "      <td>11689.000000</td>\n",
       "      <td>800.000000</td>\n",
       "    </tr>\n",
       "    <tr>\n",
       "      <th>max</th>\n",
       "      <td>15573.000000</td>\n",
       "      <td>14000.000000</td>\n",
       "    </tr>\n",
       "  </tbody>\n",
       "</table>\n",
       "</div>"
      ],
      "text/plain": [
       "       RESTAURANT_ID          COST\n",
       "count   12665.000000  12665.000000\n",
       "mean     7757.774734    655.400790\n",
       "std      4506.166393    627.389831\n",
       "min         0.000000     20.000000\n",
       "25%      3861.000000    300.000000\n",
       "50%      7739.000000    500.000000\n",
       "75%     11689.000000    800.000000\n",
       "max     15573.000000  14000.000000"
      ]
     },
     "execution_count": 89,
     "metadata": {},
     "output_type": "execute_result"
    }
   ],
   "source": [
    "train.describe()"
   ]
  },
  {
   "cell_type": "markdown",
   "id": "8e177229",
   "metadata": {},
   "source": [
    "1. This statistical data shows the that there are no missing values as the count of columns are same.\n",
    "2. mean is greater than median(50%).\n",
    "3. There is huge difference between the 75% and max which means there are outliers present in the dataset."
   ]
  },
  {
   "cell_type": "code",
   "execution_count": 90,
   "id": "3685d57f",
   "metadata": {},
   "outputs": [
    {
     "data": {
      "text/plain": [
       "<Axes: xlabel='COST', ylabel='count'>"
      ]
     },
     "execution_count": 90,
     "metadata": {},
     "output_type": "execute_result"
    },
    {
     "data": {
      "image/png": "[encoded data removed]",
      "text/plain": [
       "<Figure size 640x480 with 1 Axes>"
      ]
     },
     "metadata": {},
     "output_type": "display_data"
    }
   ],
   "source": [
    "sns.countplot(data=train,x='COST')"
   ]
  },
  {
   "cell_type": "code",
   "execution_count": 91,
   "id": "2a7df871",
   "metadata": {},
   "outputs": [
    {
     "data": {
      "text/plain": [
       "South Indian                                0.042006\n",
       "North Indian                                0.041374\n",
       "North Indian, Chinese                       0.039479\n",
       "Fast Food                                   0.022582\n",
       "Chinese                                     0.013186\n",
       "                                              ...   \n",
       "BBQ, Rolls                                  0.000079\n",
       "Italian, North Indian, Chinese, Salad       0.000079\n",
       "Andhra, Seafood, Biryani                    0.000079\n",
       "Italian, Biryani, Fast Food                 0.000079\n",
       "Finger Food, Continental, Asian, Chinese    0.000079\n",
       "Name: CUISINES, Length: 4155, dtype: float64"
      ]
     },
     "execution_count": 91,
     "metadata": {},
     "output_type": "execute_result"
    }
   ],
   "source": [
    "train['CUISINES'].value_counts(normalize=True)"
   ]
  },
  {
   "cell_type": "code",
   "execution_count": 92,
   "id": "26099eda",
   "metadata": {},
   "outputs": [
    {
     "data": {
      "text/plain": [
       "<seaborn.axisgrid.FacetGrid at 0x213a75e1410>"
      ]
     },
     "execution_count": 92,
     "metadata": {},
     "output_type": "execute_result"
    },
    {
     "data": {
      "image/png": "[encoded data removed]",
      "text/plain": [
       "<Figure size 500x500 with 1 Axes>"
      ]
     },
     "metadata": {},
     "output_type": "display_data"
    }
   ],
   "source": [
    "sns.displot(train['RATING'],kde=True)"
   ]
  },
  {
   "cell_type": "code",
   "execution_count": 93,
   "id": "f7b5a0fb",
   "metadata": {
    "scrolled": true
   },
   "outputs": [
    {
     "name": "stdout",
     "output_type": "stream",
     "text": [
      "COST                                                20     50     60     \\\n",
      "CUISINES                                                                  \n",
      "Afghan, Mughlai                                         0      0      0   \n",
      "African, Burger, Desserts, Beverages, Fast Food...      0      0      0   \n",
      "American                                                0      0      0   \n",
      "American, Arabian, Fast Food, Lebanese                  0      0      0   \n",
      "American, Asian, Burger, Chinese, Desserts, Pan...      0      0      0   \n",
      "...                                                   ...    ...    ...   \n",
      "Vietnamese, Thai, Burmese, Japanese                     0      0      0   \n",
      "Wraps                                                   0      0      0   \n",
      "Wraps, Biryani, North Indian, Kebab, Desserts, ...      0      0      0   \n",
      "Wraps, Fast Food                                        0      0      0   \n",
      "Wraps, Sandwich, Rolls, Fast Food, Burger, Pizza        0      0      0   \n",
      "\n",
      "COST                                                70     80     100    \\\n",
      "CUISINES                                                                  \n",
      "Afghan, Mughlai                                         0      0      0   \n",
      "African, Burger, Desserts, Beverages, Fast Food...      0      0      0   \n",
      "American                                                0      0      0   \n",
      "American, Arabian, Fast Food, Lebanese                  0      0      0   \n",
      "American, Asian, Burger, Chinese, Desserts, Pan...      0      0      0   \n",
      "...                                                   ...    ...    ...   \n",
      "Vietnamese, Thai, Burmese, Japanese                     0      0      0   \n",
      "Wraps                                                   0      0      0   \n",
      "Wraps, Biryani, North Indian, Kebab, Desserts, ...      0      0      0   \n",
      "Wraps, Fast Food                                        0      0      0   \n",
      "Wraps, Sandwich, Rolls, Fast Food, Burger, Pizza        0      0      0   \n",
      "\n",
      "COST                                                120    130    140    \\\n",
      "CUISINES                                                                  \n",
      "Afghan, Mughlai                                         0      0      0   \n",
      "African, Burger, Desserts, Beverages, Fast Food...      0      0      0   \n",
      "American                                                0      0      0   \n",
      "American, Arabian, Fast Food, Lebanese                  0      0      0   \n",
      "American, Asian, Burger, Chinese, Desserts, Pan...      0      0      0   \n",
      "...                                                   ...    ...    ...   \n",
      "Vietnamese, Thai, Burmese, Japanese                     0      0      0   \n",
      "Wraps                                                   0      0      0   \n",
      "Wraps, Biryani, North Indian, Kebab, Desserts, ...      0      0      0   \n",
      "Wraps, Fast Food                                        0      0      0   \n",
      "Wraps, Sandwich, Rolls, Fast Food, Burger, Pizza        0      0      0   \n",
      "\n",
      "COST                                                150    ...  4500   5000   \\\n",
      "CUISINES                                                   ...                 \n",
      "Afghan, Mughlai                                         0  ...      0      0   \n",
      "African, Burger, Desserts, Beverages, Fast Food...      0  ...      0      0   \n",
      "American                                                0  ...      0      0   \n",
      "American, Arabian, Fast Food, Lebanese                  0  ...      0      0   \n",
      "American, Asian, Burger, Chinese, Desserts, Pan...      0  ...      0      0   \n",
      "...                                                   ...  ...    ...    ...   \n",
      "Vietnamese, Thai, Burmese, Japanese                     0  ...      0      0   \n",
      "Wraps                                                   0  ...      0      0   \n",
      "Wraps, Biryani, North Indian, Kebab, Desserts, ...      0  ...      0      0   \n",
      "Wraps, Fast Food                                        0  ...      0      0   \n",
      "Wraps, Sandwich, Rolls, Fast Food, Burger, Pizza        0  ...      0      0   \n",
      "\n",
      "COST                                                5200   5500   6000   \\\n",
      "CUISINES                                                                  \n",
      "Afghan, Mughlai                                         0      0      0   \n",
      "African, Burger, Desserts, Beverages, Fast Food...      0      0      0   \n",
      "American                                                0      0      0   \n",
      "American, Arabian, Fast Food, Lebanese                  0      0      0   \n",
      "American, Asian, Burger, Chinese, Desserts, Pan...      0      0      0   \n",
      "...                                                   ...    ...    ...   \n",
      "Vietnamese, Thai, Burmese, Japanese                     0      0      0   \n",
      "Wraps                                                   0      0      0   \n",
      "Wraps, Biryani, North Indian, Kebab, Desserts, ...      0      0      0   \n",
      "Wraps, Fast Food                                        0      0      0   \n",
      "Wraps, Sandwich, Rolls, Fast Food, Burger, Pizza        0      0      0   \n",
      "\n",
      "COST                                                6500   7000   8000   \\\n",
      "CUISINES                                                                  \n",
      "Afghan, Mughlai                                         0      0      0   \n",
      "African, Burger, Desserts, Beverages, Fast Food...      0      0      0   \n",
      "American                                                0      0      0   \n",
      "American, Arabian, Fast Food, Lebanese                  0      0      0   \n",
      "American, Asian, Burger, Chinese, Desserts, Pan...      0      0      0   \n",
      "...                                                   ...    ...    ...   \n",
      "Vietnamese, Thai, Burmese, Japanese                     0      0      0   \n",
      "Wraps                                                   0      0      0   \n",
      "Wraps, Biryani, North Indian, Kebab, Desserts, ...      0      0      0   \n",
      "Wraps, Fast Food                                        0      0      0   \n",
      "Wraps, Sandwich, Rolls, Fast Food, Burger, Pizza        0      0      0   \n",
      "\n",
      "COST                                                10000  14000  \n",
      "CUISINES                                                          \n",
      "Afghan, Mughlai                                         0      0  \n",
      "African, Burger, Desserts, Beverages, Fast Food...      0      0  \n",
      "American                                                0      0  \n",
      "American, Arabian, Fast Food, Lebanese                  0      0  \n",
      "American, Asian, Burger, Chinese, Desserts, Pan...      0      0  \n",
      "...                                                   ...    ...  \n",
      "Vietnamese, Thai, Burmese, Japanese                     0      0  \n",
      "Wraps                                                   0      0  \n",
      "Wraps, Biryani, North Indian, Kebab, Desserts, ...      0      0  \n",
      "Wraps, Fast Food                                        0      0  \n",
      "Wraps, Sandwich, Rolls, Fast Food, Burger, Pizza        0      0  \n",
      "\n",
      "[4155 rows x 86 columns]\n"
     ]
    }
   ],
   "source": [
    "print(pd.crosstab(train['CUISINES'],train['COST']))"
   ]
  },
  {
   "cell_type": "markdown",
   "id": "94d3d547",
   "metadata": {},
   "source": [
    "TYPES OF CUISINES AND THEIR COST RANGE."
   ]
  },
  {
   "cell_type": "code",
   "execution_count": 94,
   "id": "e2593583",
   "metadata": {},
   "outputs": [],
   "source": [
    "#converting categorical data into numerical data\n",
    "enc=OrdinalEncoder()\n",
    "train[['CUISINES','LOCALITY','CITY','VOTES','RESTAURANT_ID','TIME','TITLE']]=enc.fit_transform(train[['CUISINES','LOCALITY','CITY','VOTES','RESTAURANT_ID','TIME','TITLE']])"
   ]
  },
  {
   "cell_type": "code",
   "execution_count": 95,
   "id": "92a1376e",
   "metadata": {},
   "outputs": [],
   "source": [
    "train['COST']=train['COST'].astype(float)"
   ]
  },
  {
   "cell_type": "code",
   "execution_count": 96,
   "id": "3977d798",
   "metadata": {},
   "outputs": [
    {
     "data": {
      "text/html": [
       "<div>\n",
       "<style scoped>\n",
       "    .dataframe tbody tr th:only-of-type {\n",
       "        vertical-align: middle;\n",
       "    }\n",
       "\n",
       "    .dataframe tbody tr th {\n",
       "        vertical-align: top;\n",
       "    }\n",
       "\n",
       "    .dataframe thead th {\n",
       "        text-align: right;\n",
       "    }\n",
       "</style>\n",
       "<table border=\"1\" class=\"dataframe\">\n",
       "  <thead>\n",
       "    <tr style=\"text-align: right;\">\n",
       "      <th></th>\n",
       "      <th>TITLE</th>\n",
       "      <th>RESTAURANT_ID</th>\n",
       "      <th>CUISINES</th>\n",
       "      <th>TIME</th>\n",
       "      <th>CITY</th>\n",
       "      <th>LOCALITY</th>\n",
       "      <th>RATING</th>\n",
       "      <th>VOTES</th>\n",
       "      <th>COST</th>\n",
       "    </tr>\n",
       "  </thead>\n",
       "  <tbody>\n",
       "    <tr>\n",
       "      <th>0</th>\n",
       "      <td>31.0</td>\n",
       "      <td>7196.0</td>\n",
       "      <td>2627.0</td>\n",
       "      <td>739.0</td>\n",
       "      <td>320.0</td>\n",
       "      <td>285.0</td>\n",
       "      <td>3.6</td>\n",
       "      <td>1278.0</td>\n",
       "      <td>1200.0</td>\n",
       "    </tr>\n",
       "    <tr>\n",
       "      <th>1</th>\n",
       "      <td>33.0</td>\n",
       "      <td>10075.0</td>\n",
       "      <td>289.0</td>\n",
       "      <td>1885.0</td>\n",
       "      <td>67.0</td>\n",
       "      <td>1046.0</td>\n",
       "      <td>4.2</td>\n",
       "      <td>950.0</td>\n",
       "      <td>1500.0</td>\n",
       "    </tr>\n",
       "    <tr>\n",
       "      <th>2</th>\n",
       "      <td>31.0</td>\n",
       "      <td>8349.0</td>\n",
       "      <td>2976.0</td>\n",
       "      <td>661.0</td>\n",
       "      <td>67.0</td>\n",
       "      <td>1101.0</td>\n",
       "      <td>3.8</td>\n",
       "      <td>712.0</td>\n",
       "      <td>800.0</td>\n",
       "    </tr>\n",
       "    <tr>\n",
       "      <th>3</th>\n",
       "      <td>95.0</td>\n",
       "      <td>4876.0</td>\n",
       "      <td>4130.0</td>\n",
       "      <td>275.0</td>\n",
       "      <td>222.0</td>\n",
       "      <td>136.0</td>\n",
       "      <td>4.1</td>\n",
       "      <td>787.0</td>\n",
       "      <td>800.0</td>\n",
       "    </tr>\n",
       "    <tr>\n",
       "      <th>4</th>\n",
       "      <td>50.0</td>\n",
       "      <td>11747.0</td>\n",
       "      <td>1766.0</td>\n",
       "      <td>615.0</td>\n",
       "      <td>222.0</td>\n",
       "      <td>620.0</td>\n",
       "      <td>3.8</td>\n",
       "      <td>470.0</td>\n",
       "      <td>300.0</td>\n",
       "    </tr>\n",
       "    <tr>\n",
       "      <th>...</th>\n",
       "      <td>...</td>\n",
       "      <td>...</td>\n",
       "      <td>...</td>\n",
       "      <td>...</td>\n",
       "      <td>...</td>\n",
       "      <td>...</td>\n",
       "      <td>...</td>\n",
       "      <td>...</td>\n",
       "      <td>...</td>\n",
       "    </tr>\n",
       "    <tr>\n",
       "      <th>12685</th>\n",
       "      <td>95.0</td>\n",
       "      <td>10100.0</td>\n",
       "      <td>2934.0</td>\n",
       "      <td>1144.0</td>\n",
       "      <td>131.0</td>\n",
       "      <td>342.0</td>\n",
       "      <td>3.8</td>\n",
       "      <td>1349.0</td>\n",
       "      <td>500.0</td>\n",
       "    </tr>\n",
       "    <tr>\n",
       "      <th>12686</th>\n",
       "      <td>33.0</td>\n",
       "      <td>7390.0</td>\n",
       "      <td>2143.0</td>\n",
       "      <td>1177.0</td>\n",
       "      <td>222.0</td>\n",
       "      <td>133.0</td>\n",
       "      <td>4.3</td>\n",
       "      <td>191.0</td>\n",
       "      <td>1800.0</td>\n",
       "    </tr>\n",
       "    <tr>\n",
       "      <th>12687</th>\n",
       "      <td>71.0</td>\n",
       "      <td>8518.0</td>\n",
       "      <td>2088.0</td>\n",
       "      <td>1137.0</td>\n",
       "      <td>239.0</td>\n",
       "      <td>1342.0</td>\n",
       "      <td>4.0</td>\n",
       "      <td>1428.0</td>\n",
       "      <td>1300.0</td>\n",
       "    </tr>\n",
       "    <tr>\n",
       "      <th>12688</th>\n",
       "      <td>31.0</td>\n",
       "      <td>4718.0</td>\n",
       "      <td>3506.0</td>\n",
       "      <td>1837.0</td>\n",
       "      <td>67.0</td>\n",
       "      <td>631.0</td>\n",
       "      <td>3.5</td>\n",
       "      <td>996.0</td>\n",
       "      <td>400.0</td>\n",
       "    </tr>\n",
       "    <tr>\n",
       "      <th>12689</th>\n",
       "      <td>31.0</td>\n",
       "      <td>4941.0</td>\n",
       "      <td>2946.0</td>\n",
       "      <td>835.0</td>\n",
       "      <td>131.0</td>\n",
       "      <td>1333.0</td>\n",
       "      <td>3.4</td>\n",
       "      <td>1505.0</td>\n",
       "      <td>600.0</td>\n",
       "    </tr>\n",
       "  </tbody>\n",
       "</table>\n",
       "<p>12665 rows × 9 columns</p>\n",
       "</div>"
      ],
      "text/plain": [
       "       TITLE  RESTAURANT_ID  CUISINES    TIME   CITY  LOCALITY RATING   VOTES  \\\n",
       "0       31.0         7196.0    2627.0   739.0  320.0     285.0    3.6  1278.0   \n",
       "1       33.0        10075.0     289.0  1885.0   67.0    1046.0    4.2   950.0   \n",
       "2       31.0         8349.0    2976.0   661.0   67.0    1101.0    3.8   712.0   \n",
       "3       95.0         4876.0    4130.0   275.0  222.0     136.0    4.1   787.0   \n",
       "4       50.0        11747.0    1766.0   615.0  222.0     620.0    3.8   470.0   \n",
       "...      ...            ...       ...     ...    ...       ...    ...     ...   \n",
       "12685   95.0        10100.0    2934.0  1144.0  131.0     342.0    3.8  1349.0   \n",
       "12686   33.0         7390.0    2143.0  1177.0  222.0     133.0    4.3   191.0   \n",
       "12687   71.0         8518.0    2088.0  1137.0  239.0    1342.0    4.0  1428.0   \n",
       "12688   31.0         4718.0    3506.0  1837.0   67.0     631.0    3.5   996.0   \n",
       "12689   31.0         4941.0    2946.0   835.0  131.0    1333.0    3.4  1505.0   \n",
       "\n",
       "         COST  \n",
       "0      1200.0  \n",
       "1      1500.0  \n",
       "2       800.0  \n",
       "3       800.0  \n",
       "4       300.0  \n",
       "...       ...  \n",
       "12685   500.0  \n",
       "12686  1800.0  \n",
       "12687  1300.0  \n",
       "12688   400.0  \n",
       "12689   600.0  \n",
       "\n",
       "[12665 rows x 9 columns]"
      ]
     },
     "execution_count": 96,
     "metadata": {},
     "output_type": "execute_result"
    }
   ],
   "source": [
    "train"
   ]
  },
  {
   "cell_type": "code",
   "execution_count": 97,
   "id": "028cfc8b",
   "metadata": {},
   "outputs": [
    {
     "data": {
      "text/html": [
       "<div>\n",
       "<style scoped>\n",
       "    .dataframe tbody tr th:only-of-type {\n",
       "        vertical-align: middle;\n",
       "    }\n",
       "\n",
       "    .dataframe tbody tr th {\n",
       "        vertical-align: top;\n",
       "    }\n",
       "\n",
       "    .dataframe thead th {\n",
       "        text-align: right;\n",
       "    }\n",
       "</style>\n",
       "<table border=\"1\" class=\"dataframe\">\n",
       "  <thead>\n",
       "    <tr style=\"text-align: right;\">\n",
       "      <th></th>\n",
       "      <th>TITLE</th>\n",
       "      <th>RESTAURANT_ID</th>\n",
       "      <th>CUISINES</th>\n",
       "      <th>TIME</th>\n",
       "      <th>CITY</th>\n",
       "      <th>LOCALITY</th>\n",
       "      <th>VOTES</th>\n",
       "      <th>COST</th>\n",
       "    </tr>\n",
       "  </thead>\n",
       "  <tbody>\n",
       "    <tr>\n",
       "      <th>TITLE</th>\n",
       "      <td>1.000000</td>\n",
       "      <td>0.002298</td>\n",
       "      <td>0.244363</td>\n",
       "      <td>0.054171</td>\n",
       "      <td>-0.012894</td>\n",
       "      <td>0.030642</td>\n",
       "      <td>0.002182</td>\n",
       "      <td>-0.263779</td>\n",
       "    </tr>\n",
       "    <tr>\n",
       "      <th>RESTAURANT_ID</th>\n",
       "      <td>0.002298</td>\n",
       "      <td>1.000000</td>\n",
       "      <td>0.056088</td>\n",
       "      <td>0.008424</td>\n",
       "      <td>0.005289</td>\n",
       "      <td>-0.003895</td>\n",
       "      <td>0.015170</td>\n",
       "      <td>0.041007</td>\n",
       "    </tr>\n",
       "    <tr>\n",
       "      <th>CUISINES</th>\n",
       "      <td>0.244363</td>\n",
       "      <td>0.056088</td>\n",
       "      <td>1.000000</td>\n",
       "      <td>0.105406</td>\n",
       "      <td>0.023559</td>\n",
       "      <td>0.017270</td>\n",
       "      <td>-0.002129</td>\n",
       "      <td>-0.014286</td>\n",
       "    </tr>\n",
       "    <tr>\n",
       "      <th>TIME</th>\n",
       "      <td>0.054171</td>\n",
       "      <td>0.008424</td>\n",
       "      <td>0.105406</td>\n",
       "      <td>1.000000</td>\n",
       "      <td>-0.010494</td>\n",
       "      <td>-0.007593</td>\n",
       "      <td>0.009840</td>\n",
       "      <td>0.018302</td>\n",
       "    </tr>\n",
       "    <tr>\n",
       "      <th>CITY</th>\n",
       "      <td>-0.012894</td>\n",
       "      <td>0.005289</td>\n",
       "      <td>0.023559</td>\n",
       "      <td>-0.010494</td>\n",
       "      <td>1.000000</td>\n",
       "      <td>0.037579</td>\n",
       "      <td>0.001697</td>\n",
       "      <td>0.043808</td>\n",
       "    </tr>\n",
       "    <tr>\n",
       "      <th>LOCALITY</th>\n",
       "      <td>0.030642</td>\n",
       "      <td>-0.003895</td>\n",
       "      <td>0.017270</td>\n",
       "      <td>-0.007593</td>\n",
       "      <td>0.037579</td>\n",
       "      <td>1.000000</td>\n",
       "      <td>0.004247</td>\n",
       "      <td>-0.016300</td>\n",
       "    </tr>\n",
       "    <tr>\n",
       "      <th>VOTES</th>\n",
       "      <td>0.002182</td>\n",
       "      <td>0.015170</td>\n",
       "      <td>-0.002129</td>\n",
       "      <td>0.009840</td>\n",
       "      <td>0.001697</td>\n",
       "      <td>0.004247</td>\n",
       "      <td>1.000000</td>\n",
       "      <td>0.004638</td>\n",
       "    </tr>\n",
       "    <tr>\n",
       "      <th>COST</th>\n",
       "      <td>-0.263779</td>\n",
       "      <td>0.041007</td>\n",
       "      <td>-0.014286</td>\n",
       "      <td>0.018302</td>\n",
       "      <td>0.043808</td>\n",
       "      <td>-0.016300</td>\n",
       "      <td>0.004638</td>\n",
       "      <td>1.000000</td>\n",
       "    </tr>\n",
       "  </tbody>\n",
       "</table>\n",
       "</div>"
      ],
      "text/plain": [
       "                  TITLE  RESTAURANT_ID  CUISINES      TIME      CITY  \\\n",
       "TITLE          1.000000       0.002298  0.244363  0.054171 -0.012894   \n",
       "RESTAURANT_ID  0.002298       1.000000  0.056088  0.008424  0.005289   \n",
       "CUISINES       0.244363       0.056088  1.000000  0.105406  0.023559   \n",
       "TIME           0.054171       0.008424  0.105406  1.000000 -0.010494   \n",
       "CITY          -0.012894       0.005289  0.023559 -0.010494  1.000000   \n",
       "LOCALITY       0.030642      -0.003895  0.017270 -0.007593  0.037579   \n",
       "VOTES          0.002182       0.015170 -0.002129  0.009840  0.001697   \n",
       "COST          -0.263779       0.041007 -0.014286  0.018302  0.043808   \n",
       "\n",
       "               LOCALITY     VOTES      COST  \n",
       "TITLE          0.030642  0.002182 -0.263779  \n",
       "RESTAURANT_ID -0.003895  0.015170  0.041007  \n",
       "CUISINES       0.017270 -0.002129 -0.014286  \n",
       "TIME          -0.007593  0.009840  0.018302  \n",
       "CITY           0.037579  0.001697  0.043808  \n",
       "LOCALITY       1.000000  0.004247 -0.016300  \n",
       "VOTES          0.004247  1.000000  0.004638  \n",
       "COST          -0.016300  0.004638  1.000000  "
      ]
     },
     "execution_count": 97,
     "metadata": {},
     "output_type": "execute_result"
    }
   ],
   "source": [
    "#CHECKING THE CORRELATION OF DEPENDENT AND INDEPENDENT VARIANCE\n",
    "train.corr()"
   ]
  },
  {
   "cell_type": "code",
   "execution_count": 98,
   "id": "e5b489ee",
   "metadata": {},
   "outputs": [
    {
     "data": {
      "image/png": "[encoded data removed]",
      "text/plain": [
       "<Figure size 1500x1000 with 2 Axes>"
      ]
     },
     "metadata": {},
     "output_type": "display_data"
    }
   ],
   "source": [
    "plt.figure(figsize=(15,10))\n",
    "sns.heatmap(train.corr(),linewidths=0.1,fmt='1g',linecolor='black',annot=True,cmap='pink')\n",
    "plt.yticks(rotation=0);\n",
    "plt.show()"
   ]
  },
  {
   "cell_type": "markdown",
   "id": "3c252dd0",
   "metadata": {},
   "source": [
    "This is the correlation chart, as we can see the cost and title are highly negatively correlated. where as cost and city are highly positively correlated."
   ]
  },
  {
   "cell_type": "code",
   "execution_count": 99,
   "id": "69ccd413",
   "metadata": {},
   "outputs": [
    {
     "data": {
      "text/plain": [
       "TITLE               Axes(0.125,0.786098;0.227941x0.0939024)\n",
       "RESTAURANT_ID    Axes(0.398529,0.786098;0.227941x0.0939024)\n",
       "CUISINES         Axes(0.672059,0.786098;0.227941x0.0939024)\n",
       "TIME                Axes(0.125,0.673415;0.227941x0.0939024)\n",
       "CITY             Axes(0.398529,0.673415;0.227941x0.0939024)\n",
       "LOCALITY         Axes(0.672059,0.673415;0.227941x0.0939024)\n",
       "VOTES               Axes(0.125,0.560732;0.227941x0.0939024)\n",
       "COST             Axes(0.398529,0.560732;0.227941x0.0939024)\n",
       "dtype: object"
      ]
     },
     "execution_count": 99,
     "metadata": {},
     "output_type": "execute_result"
    },
    {
     "data": {
      "text/plain": [
       "<Figure size 1500x2000 with 0 Axes>"
      ]
     },
     "metadata": {},
     "output_type": "display_data"
    },
    {
     "data": {
      "image/png": "[encoded data removed]",
      "text/plain": [
       "<Figure size 640x480 with 21 Axes>"
      ]
     },
     "metadata": {},
     "output_type": "display_data"
    }
   ],
   "source": [
    "#checking for outliers\n",
    "fig=plt.figure(figsize=(15,20))\n",
    "train.plot(kind='box',subplots=True,layout=(7,3))  "
   ]
  },
  {
   "cell_type": "code",
   "execution_count": 100,
   "id": "d69256a9",
   "metadata": {},
   "outputs": [
    {
     "data": {
      "text/plain": [
       "TITLE           -0.069827\n",
       "RESTAURANT_ID    0.004129\n",
       "CUISINES        -0.218312\n",
       "TIME             0.305681\n",
       "CITY             0.252063\n",
       "LOCALITY         0.338968\n",
       "VOTES           -0.186305\n",
       "COST             3.978358\n",
       "dtype: float64"
      ]
     },
     "execution_count": 100,
     "metadata": {},
     "output_type": "execute_result"
    }
   ],
   "source": [
    "#checking skewness\n",
    "train.skew()"
   ]
  },
  {
   "cell_type": "code",
   "execution_count": 101,
   "id": "66befffb",
   "metadata": {},
   "outputs": [],
   "source": [
    "#dropping all null values\n",
    "train=train.dropna()"
   ]
  },
  {
   "cell_type": "code",
   "execution_count": 102,
   "id": "406a6954",
   "metadata": {},
   "outputs": [],
   "source": [
    "x=train.iloc[:,:-1]\n",
    "y=train.iloc[:,-1]"
   ]
  },
  {
   "cell_type": "code",
   "execution_count": 103,
   "id": "983cb281",
   "metadata": {},
   "outputs": [
    {
     "name": "stdout",
     "output_type": "stream",
     "text": [
      "feature dimension (11372, 8)\n",
      "label dimension (11372,)\n"
     ]
    }
   ],
   "source": [
    "#seperating independent and target variables\n",
    "x=train.drop('COST',axis=1)\n",
    "y=train['COST']\n",
    "print('feature dimension',x.shape)\n",
    "print('label dimension',y.shape)"
   ]
  },
  {
   "cell_type": "code",
   "execution_count": 104,
   "id": "5c6db506",
   "metadata": {},
   "outputs": [
    {
     "data": {
      "text/plain": [
       "array([[-0.85187002,  0.35994414,  0.3231945 , ..., -0.92503304,\n",
       "        -0.43611093,  0.61404218],\n",
       "       [-0.79045706,  1.19864747, -1.61179508, ...,  0.98352825,\n",
       "         0.98541112, -0.03918376],\n",
       "       [-0.85187002,  0.69583332,  0.61203598, ...,  1.12146632,\n",
       "         0.03772975, -0.51317086],\n",
       "       ...,\n",
       "       [ 0.37638935,  0.74506599, -0.12289591, ...,  1.72588587,\n",
       "         0.51157044,  0.91277355],\n",
       "       [-0.85187002, -0.36194084,  1.05067776, ..., -0.05727718,\n",
       "        -0.67303128,  0.0524272 ],\n",
       "       [-0.85187002, -0.29697702,  0.5872072 , ...,  1.70331418,\n",
       "        -0.90995162,  1.06612232]])"
      ]
     },
     "execution_count": 104,
     "metadata": {},
     "output_type": "execute_result"
    }
   ],
   "source": [
    "#scaling of data\n",
    "st=StandardScaler()\n",
    "x=st.fit_transform(x)\n",
    "x"
   ]
  },
  {
   "cell_type": "markdown",
   "id": "4d72ddee",
   "metadata": {},
   "source": [
    "# Model building"
   ]
  },
  {
   "cell_type": "code",
   "execution_count": 105,
   "id": "0c8552ff",
   "metadata": {},
   "outputs": [],
   "source": [
    "from sklearn.metrics import r2_score\n",
    "from sklearn import datasets\n",
    "from sklearn.model_selection import GridSearchCV\n",
    "from sklearn.metrics import mean_squared_error, mean_absolute_error\n",
    "from sklearn import metrics\n",
    "from sklearn.linear_model import Ridge, Lasso"
   ]
  },
  {
   "cell_type": "code",
   "execution_count": 106,
   "id": "8c9243fd",
   "metadata": {},
   "outputs": [
    {
     "name": "stdout",
     "output_type": "stream",
     "text": [
      "Best accuracy 0.22956141673783392 at random state 101\n"
     ]
    }
   ],
   "source": [
    "maxAccu=0\n",
    "maxRs=0\n",
    "for i in range(1,200):\n",
    "    x_train,x_test,y_train,y_test=train_test_split(x,y,test_size=0.05,random_state=i)\n",
    "    lr=LinearRegression()\n",
    "    lr.fit(x_train,y_train)\n",
    "    pre=lr.predict(x_test)\n",
    "    acc=r2_score(y_test,pre)\n",
    "    if acc>maxAccu:\n",
    "        maxAccu=acc\n",
    "        maxRs=i\n",
    "print('Best accuracy',maxAccu,'at random state',maxRs)        \n",
    "    "
   ]
  },
  {
   "cell_type": "code",
   "execution_count": 107,
   "id": "fecb68b0",
   "metadata": {},
   "outputs": [],
   "source": [
    "x_train,x_test,y_train,y_test=train_test_split(x,y,test_size=0.30,random_state=maxRs)"
   ]
  },
  {
   "cell_type": "code",
   "execution_count": 108,
   "id": "3829ea25",
   "metadata": {},
   "outputs": [
    {
     "name": "stdout",
     "output_type": "stream",
     "text": [
      "R2 score: 0.15312440751189482\n",
      "R2 score training data: 16.88703967865699\n",
      "Mean absolute error: 357.75089270628877\n",
      "Mean square error: 327225.07301417214\n",
      "Root mean square error: 572.0359018577175\n"
     ]
    }
   ],
   "source": [
    "#Ridge\n",
    "rd=Ridge()\n",
    "rd.fit(x_train,y_train)\n",
    "pre=rd.predict(x_test)\n",
    "pred=rd.predict(x_train)\n",
    "print(\"R2 score:\",r2_score(y_train,pred))\n",
    "print(\"R2 score training data:\",r2_score(y_test,pre)*100)\n",
    "print('Mean absolute error:',mean_absolute_error(y_test,pre))\n",
    "print('Mean square error:',mean_squared_error(y_test,pre))\n",
    "print('Root mean square error:',np.sqrt(mean_squared_error(y_test,pre)))"
   ]
  },
  {
   "cell_type": "code",
   "execution_count": 109,
   "id": "70309b18",
   "metadata": {},
   "outputs": [
    {
     "name": "stdout",
     "output_type": "stream",
     "text": [
      "0.03964614110904052\n",
      "4.949952443941319\n",
      "Mean absolute error: 327.6836366454111\n",
      "Mean square error: 374222.72809532925\n",
      "Root mean square error: 611.7374666434363\n"
     ]
    }
   ],
   "source": [
    "#support vector regression\n",
    "svr=SVR()\n",
    "svr.fit(x_train,y_train)\n",
    "pre=svr.predict(x_test)\n",
    "pred=svr.predict(x_train)\n",
    "print(r2_score(y_train,pred))\n",
    "print(r2_score(y_test,pre)*100)\n",
    "print('Mean absolute error:',mean_absolute_error(y_test,pre))\n",
    "print('Mean square error:',mean_squared_error(y_test,pre))\n",
    "print('Root mean square error:',np.sqrt(mean_squared_error(y_test,pre)))"
   ]
  },
  {
   "cell_type": "code",
   "execution_count": 110,
   "id": "36508537",
   "metadata": {},
   "outputs": [
    {
     "name": "stdout",
     "output_type": "stream",
     "text": [
      "0.9557646289518416\n",
      "72.26379732029727\n",
      "Mean absolute error: 200.25147713950759\n",
      "Mean square error: 109200.54961236812\n",
      "Root mean square error: 330.4550644374635\n"
     ]
    }
   ],
   "source": [
    "#Randomforest\n",
    "ra=RandomForestRegressor()\n",
    "ra.fit(x_train,y_train)\n",
    "pre=ra.predict(x_test)\n",
    "pred=ra.predict(x_train)\n",
    "print(r2_score(y_train,pred))\n",
    "print(r2_score(y_test,pre)*100)\n",
    "print('Mean absolute error:',mean_absolute_error(y_test,pre))\n",
    "print('Mean square error:',mean_squared_error(y_test,pre))\n",
    "print('Root mean square error:',np.sqrt(mean_squared_error(y_test,pre)))"
   ]
  },
  {
   "cell_type": "code",
   "execution_count": 111,
   "id": "8f7df40c",
   "metadata": {},
   "outputs": [
    {
     "name": "stdout",
     "output_type": "stream",
     "text": [
      "0.5579227488838947\n",
      "35.87276435255743\n",
      "Mean absolute error: 300.40855803048066\n",
      "Mean square error: 252476.1395310668\n",
      "Root mean square error: 502.47003844116597\n"
     ]
    }
   ],
   "source": [
    "#KNN\n",
    "knn=KNN()\n",
    "knn.fit(x_train,y_train)\n",
    "pre=knn.predict(x_test)\n",
    "pred=knn.predict(x_train)\n",
    "print(r2_score(y_train,pred))\n",
    "print(r2_score(y_test,pre)*100)\n",
    "print('Mean absolute error:',mean_absolute_error(y_test,pre))\n",
    "print('Mean square error:',mean_squared_error(y_test,pre))\n",
    "print('Root mean square error:',np.sqrt(mean_squared_error(y_test,pre)))"
   ]
  },
  {
   "cell_type": "code",
   "execution_count": 112,
   "id": "c76c1fc5",
   "metadata": {},
   "outputs": [
    {
     "name": "stdout",
     "output_type": "stream",
     "text": [
      "0.15310606796204096\n",
      "16.876506073937403\n",
      "Mean absolute error: 357.6478361360766\n",
      "Mean square error: 327266.5450007329\n",
      "Root mean square error: 572.0721501705295\n"
     ]
    }
   ],
   "source": [
    "#Lasso\n",
    "las=Lasso()\n",
    "las.fit(x_train,y_train)\n",
    "pre=las.predict(x_test)\n",
    "pred=las.predict(x_train)\n",
    "print(r2_score(y_train,pred))\n",
    "print(r2_score(y_test,pre)*100)\n",
    "print('Mean absolute error:',mean_absolute_error(y_test,pre))\n",
    "print('Mean square error:',mean_squared_error(y_test,pre))\n",
    "print('Root mean square error:',np.sqrt(mean_squared_error(y_test,pre)))"
   ]
  },
  {
   "cell_type": "code",
   "execution_count": 113,
   "id": "c609841e",
   "metadata": {},
   "outputs": [
    {
     "name": "stdout",
     "output_type": "stream",
     "text": [
      "0.15312440950416717\n",
      "16.887093754816462\n",
      "Mean absolute error: 357.75309352921414\n",
      "Mean square error: 327224.86011025\n",
      "Root mean square error: 572.0357157645403\n"
     ]
    }
   ],
   "source": [
    "#Linear regression\n",
    "lr=LinearRegression()\n",
    "lr.fit(x_train,y_train)\n",
    "pre=lr.predict(x_test)\n",
    "pred=lr.predict(x_train)\n",
    "print(r2_score(y_train,pred))\n",
    "print(r2_score(y_test,pre)*100)\n",
    "print('Mean absolute error:',mean_absolute_error(y_test,pre))\n",
    "print('Mean square error:',mean_squared_error(y_test,pre))\n",
    "print('Root mean square error:',np.sqrt(mean_squared_error(y_test,pre)))"
   ]
  },
  {
   "cell_type": "markdown",
   "id": "6b5d4b2a",
   "metadata": {},
   "source": [
    "# Cross Validation"
   ]
  },
  {
   "cell_type": "code",
   "execution_count": 114,
   "id": "3640a5b9",
   "metadata": {},
   "outputs": [
    {
     "name": "stdout",
     "output_type": "stream",
     "text": [
      "[0.13952949 0.14941041 0.16976705 0.15425994 0.17349598]\n",
      "0.15729257388204923\n",
      "difference between R2score and cross validation 1.1578363666115394\n"
     ]
    }
   ],
   "source": [
    "# Cv score for Ridge\n",
    "score= cross_val_score(rd,x,y,cv=5,scoring='r2')\n",
    "print(score)\n",
    "print(score.mean())\n",
    "print('difference between R2score and cross validation',(r2_score(y_test,pre)-score.mean())*100)"
   ]
  },
  {
   "cell_type": "code",
   "execution_count": 115,
   "id": "c894ea5c",
   "metadata": {},
   "outputs": [
    {
     "name": "stdout",
     "output_type": "stream",
     "text": [
      "[0.04569272 0.05155232 0.06735058 0.03826297 0.04719195]\n",
      "0.05001010878907677\n",
      "difference between R2score and cross validation 11.886082875908786\n"
     ]
    }
   ],
   "source": [
    "# Cv score for support vector\n",
    "score= cross_val_score(svr,x,y,cv=5,scoring='r2')\n",
    "print(score)\n",
    "print(score.mean())\n",
    "print('difference between R2score and cross validation',(r2_score(y_test,pre)-score.mean())*100)"
   ]
  },
  {
   "cell_type": "code",
   "execution_count": 116,
   "id": "785937ce",
   "metadata": {},
   "outputs": [
    {
     "name": "stdout",
     "output_type": "stream",
     "text": [
      "[0.65426827 0.6937124  0.72836755 0.69069539 0.75483628]\n",
      "0.7043759761816384\n",
      "difference between R2score and cross validation -53.55050386334737\n"
     ]
    }
   ],
   "source": [
    "# Cv score for Random forest\n",
    "score= cross_val_score(ra,x,y,cv=5,scoring='r2')\n",
    "print(score)\n",
    "print(score.mean())\n",
    "print('difference between R2score and cross validation',(r2_score(y_test,pre)-score.mean())*100)"
   ]
  },
  {
   "cell_type": "code",
   "execution_count": 117,
   "id": "0d3518ed",
   "metadata": {},
   "outputs": [
    {
     "name": "stdout",
     "output_type": "stream",
     "text": [
      "[0.3031731  0.36329023 0.34141882 0.30736053 0.40701432]\n",
      "0.344451400314253\n",
      "difference between R2score and cross validation -17.558046276608835\n"
     ]
    }
   ],
   "source": [
    "# Cv score for KNN\n",
    "score= cross_val_score(knn,x,y,cv=5,scoring='r2')\n",
    "print(score)\n",
    "print(score.mean())\n",
    "print('difference between R2score and cross validation',(r2_score(y_test,pre)-score.mean())*100)"
   ]
  },
  {
   "cell_type": "code",
   "execution_count": 118,
   "id": "a5ad5b8c",
   "metadata": {},
   "outputs": [
    {
     "name": "stdout",
     "output_type": "stream",
     "text": [
      "[0.13981121 0.14959255 0.16984622 0.15412869 0.17363834]\n",
      "0.15740340226510727\n",
      "difference between R2score and cross validation 1.1467535283057355\n"
     ]
    }
   ],
   "source": [
    "# Cv score for lasso\n",
    "score= cross_val_score(las,x,y,cv=5,scoring='r2')\n",
    "print(score)\n",
    "print(score.mean())\n",
    "print('difference between R2score and cross validation',(r2_score(y_test,pre)-score.mean())*100)"
   ]
  },
  {
   "cell_type": "code",
   "execution_count": 119,
   "id": "6194e76e",
   "metadata": {},
   "outputs": [
    {
     "name": "stdout",
     "output_type": "stream",
     "text": [
      "[0.13952891 0.1494109  0.1697641  0.15425943 0.17349799]\n",
      "0.1572922659956419\n",
      "difference between R2score and cross validation 1.1578671552522735\n"
     ]
    }
   ],
   "source": [
    "# Cv score for Linear regression\n",
    "score= cross_val_score(lr,x,y,cv=5,scoring='r2')\n",
    "print(score)\n",
    "print(score.mean())\n",
    "print('difference between R2score and cross validation',(r2_score(y_test,pre)-score.mean())*100)"
   ]
  },
  {
   "cell_type": "markdown",
   "id": "18c31327",
   "metadata": {},
   "source": [
    "Randomforest regrssor is our best best model as the difference between R2 score and cross validation score is least"
   ]
  },
  {
   "cell_type": "markdown",
   "id": "40bc3b3a",
   "metadata": {},
   "source": [
    "# Setting Parameters"
   ]
  },
  {
   "cell_type": "code",
   "execution_count": 120,
   "id": "b3750571",
   "metadata": {},
   "outputs": [],
   "source": [
    "from sklearn import datasets\n",
    "from sklearn.model_selection import GridSearchCV\n",
    "from sklearn import metrics"
   ]
  },
  {
   "cell_type": "code",
   "execution_count": 129,
   "id": "4d3e4ab5",
   "metadata": {},
   "outputs": [
    {
     "name": "stdout",
     "output_type": "stream",
     "text": [
      "{'n_neighbors': 5, 'p': 2, 'weights': 'uniform'}\n"
     ]
    }
   ],
   "source": [
    "para={'n_neighbors':[5],\n",
    "      'weights':['uniform'],\n",
    "     'p':[2],}\n",
    "knn_cv=GridSearchCV(knn,para,cv=5)\n",
    "knn_cv.fit(x_train,y_train)\n",
    "print(knn_cv.best_params_)"
   ]
  },
  {
   "cell_type": "code",
   "execution_count": 131,
   "id": "6a4a62be",
   "metadata": {},
   "outputs": [
    {
     "name": "stdout",
     "output_type": "stream",
     "text": [
      "0.3587276435255743\n"
     ]
    }
   ],
   "source": [
    "knn_new=KNN(n_neighbors=5,p=2,weights='uniform')\n",
    "knn_new.fit(x_train,y_train)\n",
    "y_pred_new=knn_new.predict(x_test)\n",
    "print(metrics.r2_score(y_test,y_pred_new))"
   ]
  },
  {
   "cell_type": "code",
   "execution_count": 132,
   "id": "4303231f",
   "metadata": {},
   "outputs": [
    {
     "name": "stdout",
     "output_type": "stream",
     "text": [
      "R2 score: 0.3587276435255743\n",
      "mean absolute error: 300.40855803048066\n",
      "mean square error; 252476.1395310668\n",
      "root mean squre error: 502.47003844116597\n"
     ]
    }
   ],
   "source": [
    "knn_new.fit(x_train,y_train)\n",
    "pre=knn_new.predict(x_test)\n",
    "print('R2 score:',r2_score(y_test,pre))\n",
    "print('mean absolute error:',mean_absolute_error(y_test,pre))\n",
    "print('mean square error;',mean_squared_error(y_test,pre))\n",
    "print('root mean squre error:',np.sqrt(mean_squared_error(y_test,pre)))"
   ]
  },
  {
   "cell_type": "code",
   "execution_count": 134,
   "id": "dbb6d39c",
   "metadata": {},
   "outputs": [],
   "source": [
    "import joblib\n",
    "import pickle\n",
    "filename=\"Restaurant_food.pkl\"\n",
    "pickle.dump(knn_new,open(filename,'wb'))"
   ]
  },
  {
   "cell_type": "code",
   "execution_count": 136,
   "id": "55c9063d",
   "metadata": {},
   "outputs": [],
   "source": [
    "load_m=pickle.load(open('Restaurant_food.pkl','rb'))"
   ]
  },
  {
   "cell_type": "code",
   "execution_count": 137,
   "id": "0182c066",
   "metadata": {},
   "outputs": [
    {
     "name": "stdout",
     "output_type": "stream",
     "text": [
      "35.87276435255743\n"
     ]
    }
   ],
   "source": [
    "result=load_m.score(x_test,y_test)\n",
    "print(result*100)"
   ]
  },
  {
   "cell_type": "code",
   "execution_count": 138,
   "id": "0bdea18b",
   "metadata": {},
   "outputs": [
    {
     "data": {
      "text/html": [
       "<div>\n",
       "<style scoped>\n",
       "    .dataframe tbody tr th:only-of-type {\n",
       "        vertical-align: middle;\n",
       "    }\n",
       "\n",
       "    .dataframe tbody tr th {\n",
       "        vertical-align: top;\n",
       "    }\n",
       "\n",
       "    .dataframe thead th {\n",
       "        text-align: right;\n",
       "    }\n",
       "</style>\n",
       "<table border=\"1\" class=\"dataframe\">\n",
       "  <thead>\n",
       "    <tr style=\"text-align: right;\">\n",
       "      <th></th>\n",
       "      <th>0</th>\n",
       "      <th>1</th>\n",
       "      <th>2</th>\n",
       "      <th>3</th>\n",
       "      <th>4</th>\n",
       "      <th>5</th>\n",
       "      <th>6</th>\n",
       "      <th>7</th>\n",
       "      <th>8</th>\n",
       "      <th>9</th>\n",
       "      <th>...</th>\n",
       "      <th>3402</th>\n",
       "      <th>3403</th>\n",
       "      <th>3404</th>\n",
       "      <th>3405</th>\n",
       "      <th>3406</th>\n",
       "      <th>3407</th>\n",
       "      <th>3408</th>\n",
       "      <th>3409</th>\n",
       "      <th>3410</th>\n",
       "      <th>3411</th>\n",
       "    </tr>\n",
       "  </thead>\n",
       "  <tbody>\n",
       "    <tr>\n",
       "      <th>predicted</th>\n",
       "      <td>590.0</td>\n",
       "      <td>440.0</td>\n",
       "      <td>530.0</td>\n",
       "      <td>800.0</td>\n",
       "      <td>1060.0</td>\n",
       "      <td>1140.0</td>\n",
       "      <td>390.0</td>\n",
       "      <td>1010.0</td>\n",
       "      <td>360.0</td>\n",
       "      <td>500.0</td>\n",
       "      <td>...</td>\n",
       "      <td>1070.0</td>\n",
       "      <td>530.0</td>\n",
       "      <td>760.0</td>\n",
       "      <td>930.0</td>\n",
       "      <td>340.0</td>\n",
       "      <td>260.0</td>\n",
       "      <td>600.0</td>\n",
       "      <td>390.0</td>\n",
       "      <td>1000.0</td>\n",
       "      <td>380.0</td>\n",
       "    </tr>\n",
       "    <tr>\n",
       "      <th>orginal</th>\n",
       "      <td>900.0</td>\n",
       "      <td>350.0</td>\n",
       "      <td>700.0</td>\n",
       "      <td>700.0</td>\n",
       "      <td>800.0</td>\n",
       "      <td>700.0</td>\n",
       "      <td>300.0</td>\n",
       "      <td>1000.0</td>\n",
       "      <td>400.0</td>\n",
       "      <td>200.0</td>\n",
       "      <td>...</td>\n",
       "      <td>1800.0</td>\n",
       "      <td>200.0</td>\n",
       "      <td>800.0</td>\n",
       "      <td>1200.0</td>\n",
       "      <td>500.0</td>\n",
       "      <td>350.0</td>\n",
       "      <td>600.0</td>\n",
       "      <td>350.0</td>\n",
       "      <td>200.0</td>\n",
       "      <td>200.0</td>\n",
       "    </tr>\n",
       "  </tbody>\n",
       "</table>\n",
       "<p>2 rows × 3412 columns</p>\n",
       "</div>"
      ],
      "text/plain": [
       "            0      1      2      3       4       5      6       7      8     \\\n",
       "predicted  590.0  440.0  530.0  800.0  1060.0  1140.0  390.0  1010.0  360.0   \n",
       "orginal    900.0  350.0  700.0  700.0   800.0   700.0  300.0  1000.0  400.0   \n",
       "\n",
       "            9     ...    3402   3403   3404    3405   3406   3407   3408  \\\n",
       "predicted  500.0  ...  1070.0  530.0  760.0   930.0  340.0  260.0  600.0   \n",
       "orginal    200.0  ...  1800.0  200.0  800.0  1200.0  500.0  350.0  600.0   \n",
       "\n",
       "            3409    3410   3411  \n",
       "predicted  390.0  1000.0  380.0  \n",
       "orginal    350.0   200.0  200.0  \n",
       "\n",
       "[2 rows x 3412 columns]"
      ]
     },
     "execution_count": 138,
     "metadata": {},
     "output_type": "execute_result"
    }
   ],
   "source": [
    "con=pd.DataFrame([load_m.predict(x_test)[:],y_test[:]],index=['predicted','orginal'])\n",
    "con"
   ]
  },
  {
   "cell_type": "code",
   "execution_count": null,
   "id": "70e9755f",
   "metadata": {},
   "outputs": [],
   "source": []
  }
 ],
 "metadata": {
  "kernelspec": {
   "display_name": "Python 3 (ipykernel)",
   "language": "python",
   "name": "python3"
  },
  "language_info": {
   "codemirror_mode": {
    "name": "ipython",
    "version": 3
   },
   "file_extension": ".py",
   "mimetype": "text/x-python",
   "name": "python",
   "nbconvert_exporter": "python",
   "pygments_lexer": "ipython3",
   "version": "3.11.4"
  }
 },
 "nbformat": 4,
 "nbformat_minor": 5
}
