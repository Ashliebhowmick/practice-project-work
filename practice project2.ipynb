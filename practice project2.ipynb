{
 "cells": [
  {
   "cell_type": "code",
   "execution_count": 225,
   "id": "f7a463f4",
   "metadata": {},
   "outputs": [],
   "source": [
    "import pandas as pd\n",
    "import numpy as np\n",
    "import seaborn as sns\n",
    "import matplotlib.pyplot as plt\n",
    "import warnings\n",
    "warnings.filterwarnings('ignore')\n",
    "import matplotlib.pyplot as plt\n",
    "from sklearn.svm import SVR\n",
    "from sklearn import model_selection\n",
    "from sklearn.linear_model import LinearRegression\n",
    "from sklearn.ensemble import RandomForestRegressor\n",
    "from sklearn.preprocessing import OrdinalEncoder, StandardScaler\n",
    "from sklearn.neighbors import KNeighborsRegressor as KNN\n",
    "from sklearn.model_selection import train_test_split\n",
    "from sklearn.metrics import accuracy_score,confusion_matrix\n",
    "from scipy.stats import zscore\n",
    "from sklearn.ensemble import ExtraTreesRegressor\n",
    "from sklearn.metrics import confusion_matrix,classification_report, accuracy_score, roc_curve, roc_auc_score\n",
    "from sklearn.model_selection import train_test_split, cross_val_score,GridSearchCV\n"
   ]
  },
  {
   "cell_type": "code",
   "execution_count": 226,
   "id": "eb5ec7ad",
   "metadata": {},
   "outputs": [],
   "source": [
    "df=pd.read_csv('https://raw.githubusercontent.com/FlipRoboTechnologies/ML-Datasets/main/Medical%20Cost%20Insurance/medical_cost_insurance.csv')"
   ]
  },
  {
   "cell_type": "code",
   "execution_count": 227,
   "id": "315d6895",
   "metadata": {},
   "outputs": [
    {
     "data": {
      "text/html": [
       "<div>\n",
       "<style scoped>\n",
       "    .dataframe tbody tr th:only-of-type {\n",
       "        vertical-align: middle;\n",
       "    }\n",
       "\n",
       "    .dataframe tbody tr th {\n",
       "        vertical-align: top;\n",
       "    }\n",
       "\n",
       "    .dataframe thead th {\n",
       "        text-align: right;\n",
       "    }\n",
       "</style>\n",
       "<table border=\"1\" class=\"dataframe\">\n",
       "  <thead>\n",
       "    <tr style=\"text-align: right;\">\n",
       "      <th></th>\n",
       "      <th>age</th>\n",
       "      <th>sex</th>\n",
       "      <th>bmi</th>\n",
       "      <th>children</th>\n",
       "      <th>smoker</th>\n",
       "      <th>region</th>\n",
       "      <th>charges</th>\n",
       "    </tr>\n",
       "  </thead>\n",
       "  <tbody>\n",
       "    <tr>\n",
       "      <th>0</th>\n",
       "      <td>19</td>\n",
       "      <td>female</td>\n",
       "      <td>27.900</td>\n",
       "      <td>0</td>\n",
       "      <td>yes</td>\n",
       "      <td>southwest</td>\n",
       "      <td>16884.92400</td>\n",
       "    </tr>\n",
       "    <tr>\n",
       "      <th>1</th>\n",
       "      <td>18</td>\n",
       "      <td>male</td>\n",
       "      <td>33.770</td>\n",
       "      <td>1</td>\n",
       "      <td>no</td>\n",
       "      <td>southeast</td>\n",
       "      <td>1725.55230</td>\n",
       "    </tr>\n",
       "    <tr>\n",
       "      <th>2</th>\n",
       "      <td>28</td>\n",
       "      <td>male</td>\n",
       "      <td>33.000</td>\n",
       "      <td>3</td>\n",
       "      <td>no</td>\n",
       "      <td>southeast</td>\n",
       "      <td>4449.46200</td>\n",
       "    </tr>\n",
       "    <tr>\n",
       "      <th>3</th>\n",
       "      <td>33</td>\n",
       "      <td>male</td>\n",
       "      <td>22.705</td>\n",
       "      <td>0</td>\n",
       "      <td>no</td>\n",
       "      <td>northwest</td>\n",
       "      <td>21984.47061</td>\n",
       "    </tr>\n",
       "    <tr>\n",
       "      <th>4</th>\n",
       "      <td>32</td>\n",
       "      <td>male</td>\n",
       "      <td>28.880</td>\n",
       "      <td>0</td>\n",
       "      <td>no</td>\n",
       "      <td>northwest</td>\n",
       "      <td>3866.85520</td>\n",
       "    </tr>\n",
       "    <tr>\n",
       "      <th>...</th>\n",
       "      <td>...</td>\n",
       "      <td>...</td>\n",
       "      <td>...</td>\n",
       "      <td>...</td>\n",
       "      <td>...</td>\n",
       "      <td>...</td>\n",
       "      <td>...</td>\n",
       "    </tr>\n",
       "    <tr>\n",
       "      <th>1333</th>\n",
       "      <td>50</td>\n",
       "      <td>male</td>\n",
       "      <td>30.970</td>\n",
       "      <td>3</td>\n",
       "      <td>no</td>\n",
       "      <td>northwest</td>\n",
       "      <td>10600.54830</td>\n",
       "    </tr>\n",
       "    <tr>\n",
       "      <th>1334</th>\n",
       "      <td>18</td>\n",
       "      <td>female</td>\n",
       "      <td>31.920</td>\n",
       "      <td>0</td>\n",
       "      <td>no</td>\n",
       "      <td>northeast</td>\n",
       "      <td>2205.98080</td>\n",
       "    </tr>\n",
       "    <tr>\n",
       "      <th>1335</th>\n",
       "      <td>18</td>\n",
       "      <td>female</td>\n",
       "      <td>36.850</td>\n",
       "      <td>0</td>\n",
       "      <td>no</td>\n",
       "      <td>southeast</td>\n",
       "      <td>1629.83350</td>\n",
       "    </tr>\n",
       "    <tr>\n",
       "      <th>1336</th>\n",
       "      <td>21</td>\n",
       "      <td>female</td>\n",
       "      <td>25.800</td>\n",
       "      <td>0</td>\n",
       "      <td>no</td>\n",
       "      <td>southwest</td>\n",
       "      <td>2007.94500</td>\n",
       "    </tr>\n",
       "    <tr>\n",
       "      <th>1337</th>\n",
       "      <td>61</td>\n",
       "      <td>female</td>\n",
       "      <td>29.070</td>\n",
       "      <td>0</td>\n",
       "      <td>yes</td>\n",
       "      <td>northwest</td>\n",
       "      <td>29141.36030</td>\n",
       "    </tr>\n",
       "  </tbody>\n",
       "</table>\n",
       "<p>1338 rows × 7 columns</p>\n",
       "</div>"
      ],
      "text/plain": [
       "      age     sex     bmi  children smoker     region      charges\n",
       "0      19  female  27.900         0    yes  southwest  16884.92400\n",
       "1      18    male  33.770         1     no  southeast   1725.55230\n",
       "2      28    male  33.000         3     no  southeast   4449.46200\n",
       "3      33    male  22.705         0     no  northwest  21984.47061\n",
       "4      32    male  28.880         0     no  northwest   3866.85520\n",
       "...   ...     ...     ...       ...    ...        ...          ...\n",
       "1333   50    male  30.970         3     no  northwest  10600.54830\n",
       "1334   18  female  31.920         0     no  northeast   2205.98080\n",
       "1335   18  female  36.850         0     no  southeast   1629.83350\n",
       "1336   21  female  25.800         0     no  southwest   2007.94500\n",
       "1337   61  female  29.070         0    yes  northwest  29141.36030\n",
       "\n",
       "[1338 rows x 7 columns]"
      ]
     },
     "execution_count": 227,
     "metadata": {},
     "output_type": "execute_result"
    }
   ],
   "source": [
    "df"
   ]
  },
  {
   "cell_type": "markdown",
   "id": "e57a237a",
   "metadata": {},
   "source": [
    "This is the dataset of medical insurance. containing 1338 rows and 7 columns"
   ]
  },
  {
   "cell_type": "code",
   "execution_count": 228,
   "id": "a69b26fb",
   "metadata": {},
   "outputs": [
    {
     "data": {
      "text/plain": [
       "(1338, 7)"
      ]
     },
     "execution_count": 228,
     "metadata": {},
     "output_type": "execute_result"
    }
   ],
   "source": [
    "df.shape"
   ]
  },
  {
   "cell_type": "code",
   "execution_count": 229,
   "id": "82ca5726",
   "metadata": {},
   "outputs": [
    {
     "name": "stdout",
     "output_type": "stream",
     "text": [
      "<class 'pandas.core.frame.DataFrame'>\n",
      "RangeIndex: 1338 entries, 0 to 1337\n",
      "Data columns (total 7 columns):\n",
      " #   Column    Non-Null Count  Dtype  \n",
      "---  ------    --------------  -----  \n",
      " 0   age       1338 non-null   int64  \n",
      " 1   sex       1338 non-null   object \n",
      " 2   bmi       1338 non-null   float64\n",
      " 3   children  1338 non-null   int64  \n",
      " 4   smoker    1338 non-null   object \n",
      " 5   region    1338 non-null   object \n",
      " 6   charges   1338 non-null   float64\n",
      "dtypes: float64(2), int64(2), object(3)\n",
      "memory usage: 73.3+ KB\n"
     ]
    }
   ],
   "source": [
    "df.info()"
   ]
  },
  {
   "cell_type": "markdown",
   "id": "70e14a6a",
   "metadata": {},
   "source": [
    "This shows the dtype containing 2(float64),2(int64) and 3(object).\n",
    "There is no null value."
   ]
  },
  {
   "cell_type": "code",
   "execution_count": 230,
   "id": "15c9836f",
   "metadata": {},
   "outputs": [
    {
     "data": {
      "text/html": [
       "<div>\n",
       "<style scoped>\n",
       "    .dataframe tbody tr th:only-of-type {\n",
       "        vertical-align: middle;\n",
       "    }\n",
       "\n",
       "    .dataframe tbody tr th {\n",
       "        vertical-align: top;\n",
       "    }\n",
       "\n",
       "    .dataframe thead th {\n",
       "        text-align: right;\n",
       "    }\n",
       "</style>\n",
       "<table border=\"1\" class=\"dataframe\">\n",
       "  <thead>\n",
       "    <tr style=\"text-align: right;\">\n",
       "      <th></th>\n",
       "      <th>age</th>\n",
       "      <th>sex</th>\n",
       "      <th>bmi</th>\n",
       "      <th>children</th>\n",
       "      <th>smoker</th>\n",
       "      <th>region</th>\n",
       "      <th>charges</th>\n",
       "    </tr>\n",
       "  </thead>\n",
       "  <tbody>\n",
       "    <tr>\n",
       "      <th>687</th>\n",
       "      <td>40</td>\n",
       "      <td>male</td>\n",
       "      <td>41.690</td>\n",
       "      <td>0</td>\n",
       "      <td>no</td>\n",
       "      <td>southeast</td>\n",
       "      <td>5438.74910</td>\n",
       "    </tr>\n",
       "    <tr>\n",
       "      <th>333</th>\n",
       "      <td>56</td>\n",
       "      <td>female</td>\n",
       "      <td>28.785</td>\n",
       "      <td>0</td>\n",
       "      <td>no</td>\n",
       "      <td>northeast</td>\n",
       "      <td>11658.37915</td>\n",
       "    </tr>\n",
       "    <tr>\n",
       "      <th>594</th>\n",
       "      <td>41</td>\n",
       "      <td>male</td>\n",
       "      <td>40.260</td>\n",
       "      <td>0</td>\n",
       "      <td>no</td>\n",
       "      <td>southeast</td>\n",
       "      <td>5709.16440</td>\n",
       "    </tr>\n",
       "    <tr>\n",
       "      <th>346</th>\n",
       "      <td>33</td>\n",
       "      <td>male</td>\n",
       "      <td>35.750</td>\n",
       "      <td>2</td>\n",
       "      <td>no</td>\n",
       "      <td>southeast</td>\n",
       "      <td>4889.99950</td>\n",
       "    </tr>\n",
       "    <tr>\n",
       "      <th>1117</th>\n",
       "      <td>25</td>\n",
       "      <td>male</td>\n",
       "      <td>33.330</td>\n",
       "      <td>2</td>\n",
       "      <td>yes</td>\n",
       "      <td>southeast</td>\n",
       "      <td>36124.57370</td>\n",
       "    </tr>\n",
       "    <tr>\n",
       "      <th>965</th>\n",
       "      <td>35</td>\n",
       "      <td>male</td>\n",
       "      <td>27.100</td>\n",
       "      <td>1</td>\n",
       "      <td>no</td>\n",
       "      <td>southwest</td>\n",
       "      <td>4746.34400</td>\n",
       "    </tr>\n",
       "    <tr>\n",
       "      <th>866</th>\n",
       "      <td>18</td>\n",
       "      <td>male</td>\n",
       "      <td>37.290</td>\n",
       "      <td>0</td>\n",
       "      <td>no</td>\n",
       "      <td>southeast</td>\n",
       "      <td>1141.44510</td>\n",
       "    </tr>\n",
       "    <tr>\n",
       "      <th>50</th>\n",
       "      <td>18</td>\n",
       "      <td>female</td>\n",
       "      <td>35.625</td>\n",
       "      <td>0</td>\n",
       "      <td>no</td>\n",
       "      <td>northeast</td>\n",
       "      <td>2211.13075</td>\n",
       "    </tr>\n",
       "    <tr>\n",
       "      <th>1051</th>\n",
       "      <td>64</td>\n",
       "      <td>male</td>\n",
       "      <td>26.410</td>\n",
       "      <td>0</td>\n",
       "      <td>no</td>\n",
       "      <td>northeast</td>\n",
       "      <td>14394.55790</td>\n",
       "    </tr>\n",
       "    <tr>\n",
       "      <th>711</th>\n",
       "      <td>50</td>\n",
       "      <td>female</td>\n",
       "      <td>23.540</td>\n",
       "      <td>2</td>\n",
       "      <td>no</td>\n",
       "      <td>southeast</td>\n",
       "      <td>10107.22060</td>\n",
       "    </tr>\n",
       "    <tr>\n",
       "      <th>744</th>\n",
       "      <td>50</td>\n",
       "      <td>male</td>\n",
       "      <td>26.410</td>\n",
       "      <td>0</td>\n",
       "      <td>no</td>\n",
       "      <td>northwest</td>\n",
       "      <td>8827.20990</td>\n",
       "    </tr>\n",
       "    <tr>\n",
       "      <th>554</th>\n",
       "      <td>25</td>\n",
       "      <td>female</td>\n",
       "      <td>41.325</td>\n",
       "      <td>0</td>\n",
       "      <td>no</td>\n",
       "      <td>northeast</td>\n",
       "      <td>17878.90068</td>\n",
       "    </tr>\n",
       "    <tr>\n",
       "      <th>560</th>\n",
       "      <td>46</td>\n",
       "      <td>female</td>\n",
       "      <td>19.950</td>\n",
       "      <td>2</td>\n",
       "      <td>no</td>\n",
       "      <td>northwest</td>\n",
       "      <td>9193.83850</td>\n",
       "    </tr>\n",
       "    <tr>\n",
       "      <th>337</th>\n",
       "      <td>62</td>\n",
       "      <td>male</td>\n",
       "      <td>27.550</td>\n",
       "      <td>1</td>\n",
       "      <td>no</td>\n",
       "      <td>northwest</td>\n",
       "      <td>13937.66650</td>\n",
       "    </tr>\n",
       "    <tr>\n",
       "      <th>1075</th>\n",
       "      <td>32</td>\n",
       "      <td>female</td>\n",
       "      <td>29.590</td>\n",
       "      <td>1</td>\n",
       "      <td>no</td>\n",
       "      <td>southeast</td>\n",
       "      <td>4562.84210</td>\n",
       "    </tr>\n",
       "  </tbody>\n",
       "</table>\n",
       "</div>"
      ],
      "text/plain": [
       "      age     sex     bmi  children smoker     region      charges\n",
       "687    40    male  41.690         0     no  southeast   5438.74910\n",
       "333    56  female  28.785         0     no  northeast  11658.37915\n",
       "594    41    male  40.260         0     no  southeast   5709.16440\n",
       "346    33    male  35.750         2     no  southeast   4889.99950\n",
       "1117   25    male  33.330         2    yes  southeast  36124.57370\n",
       "965    35    male  27.100         1     no  southwest   4746.34400\n",
       "866    18    male  37.290         0     no  southeast   1141.44510\n",
       "50     18  female  35.625         0     no  northeast   2211.13075\n",
       "1051   64    male  26.410         0     no  northeast  14394.55790\n",
       "711    50  female  23.540         2     no  southeast  10107.22060\n",
       "744    50    male  26.410         0     no  northwest   8827.20990\n",
       "554    25  female  41.325         0     no  northeast  17878.90068\n",
       "560    46  female  19.950         2     no  northwest   9193.83850\n",
       "337    62    male  27.550         1     no  northwest  13937.66650\n",
       "1075   32  female  29.590         1     no  southeast   4562.84210"
      ]
     },
     "execution_count": 230,
     "metadata": {},
     "output_type": "execute_result"
    }
   ],
   "source": [
    "df.sample(15)"
   ]
  },
  {
   "cell_type": "markdown",
   "id": "b2d6d630",
   "metadata": {},
   "source": [
    "This are the randam selection of rows and columns from the dataset"
   ]
  },
  {
   "cell_type": "code",
   "execution_count": 231,
   "id": "81834b8d",
   "metadata": {},
   "outputs": [
    {
     "data": {
      "text/html": [
       "<div>\n",
       "<style scoped>\n",
       "    .dataframe tbody tr th:only-of-type {\n",
       "        vertical-align: middle;\n",
       "    }\n",
       "\n",
       "    .dataframe tbody tr th {\n",
       "        vertical-align: top;\n",
       "    }\n",
       "\n",
       "    .dataframe thead th {\n",
       "        text-align: right;\n",
       "    }\n",
       "</style>\n",
       "<table border=\"1\" class=\"dataframe\">\n",
       "  <thead>\n",
       "    <tr style=\"text-align: right;\">\n",
       "      <th></th>\n",
       "      <th>age</th>\n",
       "      <th>sex</th>\n",
       "      <th>bmi</th>\n",
       "      <th>children</th>\n",
       "      <th>smoker</th>\n",
       "      <th>region</th>\n",
       "      <th>charges</th>\n",
       "    </tr>\n",
       "  </thead>\n",
       "  <tbody>\n",
       "    <tr>\n",
       "      <th>0</th>\n",
       "      <td>19</td>\n",
       "      <td>female</td>\n",
       "      <td>27.900</td>\n",
       "      <td>0</td>\n",
       "      <td>yes</td>\n",
       "      <td>southwest</td>\n",
       "      <td>16884.92400</td>\n",
       "    </tr>\n",
       "    <tr>\n",
       "      <th>1</th>\n",
       "      <td>18</td>\n",
       "      <td>male</td>\n",
       "      <td>33.770</td>\n",
       "      <td>1</td>\n",
       "      <td>no</td>\n",
       "      <td>southeast</td>\n",
       "      <td>1725.55230</td>\n",
       "    </tr>\n",
       "    <tr>\n",
       "      <th>2</th>\n",
       "      <td>28</td>\n",
       "      <td>male</td>\n",
       "      <td>33.000</td>\n",
       "      <td>3</td>\n",
       "      <td>no</td>\n",
       "      <td>southeast</td>\n",
       "      <td>4449.46200</td>\n",
       "    </tr>\n",
       "    <tr>\n",
       "      <th>3</th>\n",
       "      <td>33</td>\n",
       "      <td>male</td>\n",
       "      <td>22.705</td>\n",
       "      <td>0</td>\n",
       "      <td>no</td>\n",
       "      <td>northwest</td>\n",
       "      <td>21984.47061</td>\n",
       "    </tr>\n",
       "    <tr>\n",
       "      <th>4</th>\n",
       "      <td>32</td>\n",
       "      <td>male</td>\n",
       "      <td>28.880</td>\n",
       "      <td>0</td>\n",
       "      <td>no</td>\n",
       "      <td>northwest</td>\n",
       "      <td>3866.85520</td>\n",
       "    </tr>\n",
       "    <tr>\n",
       "      <th>5</th>\n",
       "      <td>31</td>\n",
       "      <td>female</td>\n",
       "      <td>25.740</td>\n",
       "      <td>0</td>\n",
       "      <td>no</td>\n",
       "      <td>southeast</td>\n",
       "      <td>3756.62160</td>\n",
       "    </tr>\n",
       "    <tr>\n",
       "      <th>6</th>\n",
       "      <td>46</td>\n",
       "      <td>female</td>\n",
       "      <td>33.440</td>\n",
       "      <td>1</td>\n",
       "      <td>no</td>\n",
       "      <td>southeast</td>\n",
       "      <td>8240.58960</td>\n",
       "    </tr>\n",
       "    <tr>\n",
       "      <th>7</th>\n",
       "      <td>37</td>\n",
       "      <td>female</td>\n",
       "      <td>27.740</td>\n",
       "      <td>3</td>\n",
       "      <td>no</td>\n",
       "      <td>northwest</td>\n",
       "      <td>7281.50560</td>\n",
       "    </tr>\n",
       "    <tr>\n",
       "      <th>8</th>\n",
       "      <td>37</td>\n",
       "      <td>male</td>\n",
       "      <td>29.830</td>\n",
       "      <td>2</td>\n",
       "      <td>no</td>\n",
       "      <td>northeast</td>\n",
       "      <td>6406.41070</td>\n",
       "    </tr>\n",
       "    <tr>\n",
       "      <th>9</th>\n",
       "      <td>60</td>\n",
       "      <td>female</td>\n",
       "      <td>25.840</td>\n",
       "      <td>0</td>\n",
       "      <td>no</td>\n",
       "      <td>northwest</td>\n",
       "      <td>28923.13692</td>\n",
       "    </tr>\n",
       "  </tbody>\n",
       "</table>\n",
       "</div>"
      ],
      "text/plain": [
       "   age     sex     bmi  children smoker     region      charges\n",
       "0   19  female  27.900         0    yes  southwest  16884.92400\n",
       "1   18    male  33.770         1     no  southeast   1725.55230\n",
       "2   28    male  33.000         3     no  southeast   4449.46200\n",
       "3   33    male  22.705         0     no  northwest  21984.47061\n",
       "4   32    male  28.880         0     no  northwest   3866.85520\n",
       "5   31  female  25.740         0     no  southeast   3756.62160\n",
       "6   46  female  33.440         1     no  southeast   8240.58960\n",
       "7   37  female  27.740         3     no  northwest   7281.50560\n",
       "8   37    male  29.830         2     no  northeast   6406.41070\n",
       "9   60  female  25.840         0     no  northwest  28923.13692"
      ]
     },
     "execution_count": 231,
     "metadata": {},
     "output_type": "execute_result"
    }
   ],
   "source": [
    "df.head(10)"
   ]
  },
  {
   "cell_type": "markdown",
   "id": "0d4efba4",
   "metadata": {},
   "source": [
    "first 10 rows of dataset"
   ]
  },
  {
   "cell_type": "code",
   "execution_count": 232,
   "id": "1f482257",
   "metadata": {},
   "outputs": [
    {
     "data": {
      "text/plain": [
       "1639.56310     2\n",
       "16884.92400    1\n",
       "29330.98315    1\n",
       "2221.56445     1\n",
       "19798.05455    1\n",
       "              ..\n",
       "7345.08400     1\n",
       "26109.32905    1\n",
       "28287.89766    1\n",
       "1149.39590     1\n",
       "29141.36030    1\n",
       "Name: charges, Length: 1337, dtype: int64"
      ]
     },
     "execution_count": 232,
     "metadata": {},
     "output_type": "execute_result"
    }
   ],
   "source": [
    "df['charges'].value_counts()"
   ]
  },
  {
   "cell_type": "markdown",
   "id": "fc3d85f5",
   "metadata": {},
   "source": [
    "This is the total value count of the charges row"
   ]
  },
  {
   "cell_type": "code",
   "execution_count": 233,
   "id": "c67f8bcf",
   "metadata": {},
   "outputs": [
    {
     "name": "stdout",
     "output_type": "stream",
     "text": [
      "18    69\n",
      "19    68\n",
      "50    29\n",
      "51    29\n",
      "47    29\n",
      "46    29\n",
      "45    29\n",
      "20    29\n",
      "48    29\n",
      "52    29\n",
      "22    28\n",
      "49    28\n",
      "54    28\n",
      "53    28\n",
      "21    28\n",
      "26    28\n",
      "24    28\n",
      "25    28\n",
      "28    28\n",
      "27    28\n",
      "23    28\n",
      "43    27\n",
      "29    27\n",
      "30    27\n",
      "41    27\n",
      "42    27\n",
      "44    27\n",
      "31    27\n",
      "40    27\n",
      "32    26\n",
      "33    26\n",
      "56    26\n",
      "34    26\n",
      "55    26\n",
      "57    26\n",
      "37    25\n",
      "59    25\n",
      "58    25\n",
      "36    25\n",
      "38    25\n",
      "35    25\n",
      "39    25\n",
      "61    23\n",
      "60    23\n",
      "63    23\n",
      "62    23\n",
      "64    22\n",
      "Name: age, dtype: int64\n",
      "\n",
      "\n",
      "male      676\n",
      "female    662\n",
      "Name: sex, dtype: int64\n",
      "\n",
      "\n",
      "32.300    13\n",
      "28.310     9\n",
      "30.495     8\n",
      "30.875     8\n",
      "31.350     8\n",
      "          ..\n",
      "46.200     1\n",
      "23.800     1\n",
      "44.770     1\n",
      "32.120     1\n",
      "30.970     1\n",
      "Name: bmi, Length: 548, dtype: int64\n",
      "\n",
      "\n",
      "0    574\n",
      "1    324\n",
      "2    240\n",
      "3    157\n",
      "4     25\n",
      "5     18\n",
      "Name: children, dtype: int64\n",
      "\n",
      "\n",
      "no     1064\n",
      "yes     274\n",
      "Name: smoker, dtype: int64\n",
      "\n",
      "\n",
      "southeast    364\n",
      "southwest    325\n",
      "northwest    325\n",
      "northeast    324\n",
      "Name: region, dtype: int64\n",
      "\n",
      "\n",
      "1639.56310     2\n",
      "16884.92400    1\n",
      "29330.98315    1\n",
      "2221.56445     1\n",
      "19798.05455    1\n",
      "              ..\n",
      "7345.08400     1\n",
      "26109.32905    1\n",
      "28287.89766    1\n",
      "1149.39590     1\n",
      "29141.36030    1\n",
      "Name: charges, Length: 1337, dtype: int64\n",
      "\n",
      "\n"
     ]
    }
   ],
   "source": [
    "#checking values count of each column\n",
    "for i in df.columns:\n",
    "    print(df[i].value_counts())\n",
    "    print(\"\\n\")"
   ]
  },
  {
   "cell_type": "markdown",
   "id": "acc87393",
   "metadata": {},
   "source": [
    "This is the value count of each column with dtype."
   ]
  },
  {
   "cell_type": "code",
   "execution_count": 234,
   "id": "bdbab834",
   "metadata": {},
   "outputs": [
    {
     "name": "stdout",
     "output_type": "stream",
     "text": [
      "<class 'pandas.core.frame.DataFrame'>\n",
      "RangeIndex: 1338 entries, 0 to 1337\n",
      "Data columns (total 7 columns):\n",
      " #   Column    Non-Null Count  Dtype  \n",
      "---  ------    --------------  -----  \n",
      " 0   age       1338 non-null   int64  \n",
      " 1   sex       1338 non-null   object \n",
      " 2   bmi       1338 non-null   float64\n",
      " 3   children  1338 non-null   int64  \n",
      " 4   smoker    1338 non-null   object \n",
      " 5   region    1338 non-null   object \n",
      " 6   charges   1338 non-null   float64\n",
      "dtypes: float64(2), int64(2), object(3)\n",
      "memory usage: 73.3+ KB\n"
     ]
    }
   ],
   "source": [
    "df.info()"
   ]
  },
  {
   "cell_type": "markdown",
   "id": "14698716",
   "metadata": {},
   "source": [
    "this shows the indexing typen, datatype, and no nullvalues."
   ]
  },
  {
   "cell_type": "code",
   "execution_count": 235,
   "id": "756f939e",
   "metadata": {},
   "outputs": [
    {
     "data": {
      "text/plain": [
       "0"
      ]
     },
     "execution_count": 235,
     "metadata": {},
     "output_type": "execute_result"
    }
   ],
   "source": [
    "df.isnull().sum().sum()"
   ]
  },
  {
   "cell_type": "markdown",
   "id": "87bc9050",
   "metadata": {},
   "source": [
    "there is 0 nullvalue"
   ]
  },
  {
   "cell_type": "code",
   "execution_count": 236,
   "id": "17865b88",
   "metadata": {},
   "outputs": [
    {
     "data": {
      "text/plain": [
       "<Axes: >"
      ]
     },
     "execution_count": 236,
     "metadata": {},
     "output_type": "execute_result"
    },
    {
     "data": {
      "image/png": "[encoded data removed]",
      "text/plain": [
       "<Figure size 640x480 with 2 Axes>"
      ]
     },
     "metadata": {},
     "output_type": "display_data"
    }
   ],
   "source": [
    "sns.heatmap(df.isnull())"
   ]
  },
  {
   "cell_type": "markdown",
   "id": "67a7a333",
   "metadata": {},
   "source": [
    "heatmap shows that there is no nullvalue in the dataset"
   ]
  },
  {
   "cell_type": "code",
   "execution_count": 237,
   "id": "5471b07b",
   "metadata": {},
   "outputs": [
    {
     "data": {
      "text/html": [
       "<div>\n",
       "<style scoped>\n",
       "    .dataframe tbody tr th:only-of-type {\n",
       "        vertical-align: middle;\n",
       "    }\n",
       "\n",
       "    .dataframe tbody tr th {\n",
       "        vertical-align: top;\n",
       "    }\n",
       "\n",
       "    .dataframe thead th {\n",
       "        text-align: right;\n",
       "    }\n",
       "</style>\n",
       "<table border=\"1\" class=\"dataframe\">\n",
       "  <thead>\n",
       "    <tr style=\"text-align: right;\">\n",
       "      <th></th>\n",
       "      <th>age</th>\n",
       "      <th>bmi</th>\n",
       "      <th>children</th>\n",
       "      <th>charges</th>\n",
       "    </tr>\n",
       "  </thead>\n",
       "  <tbody>\n",
       "    <tr>\n",
       "      <th>count</th>\n",
       "      <td>1338.000000</td>\n",
       "      <td>1338.000000</td>\n",
       "      <td>1338.000000</td>\n",
       "      <td>1338.000000</td>\n",
       "    </tr>\n",
       "    <tr>\n",
       "      <th>mean</th>\n",
       "      <td>39.207025</td>\n",
       "      <td>30.663397</td>\n",
       "      <td>1.094918</td>\n",
       "      <td>13270.422265</td>\n",
       "    </tr>\n",
       "    <tr>\n",
       "      <th>std</th>\n",
       "      <td>14.049960</td>\n",
       "      <td>6.098187</td>\n",
       "      <td>1.205493</td>\n",
       "      <td>12110.011237</td>\n",
       "    </tr>\n",
       "    <tr>\n",
       "      <th>min</th>\n",
       "      <td>18.000000</td>\n",
       "      <td>15.960000</td>\n",
       "      <td>0.000000</td>\n",
       "      <td>1121.873900</td>\n",
       "    </tr>\n",
       "    <tr>\n",
       "      <th>25%</th>\n",
       "      <td>27.000000</td>\n",
       "      <td>26.296250</td>\n",
       "      <td>0.000000</td>\n",
       "      <td>4740.287150</td>\n",
       "    </tr>\n",
       "    <tr>\n",
       "      <th>50%</th>\n",
       "      <td>39.000000</td>\n",
       "      <td>30.400000</td>\n",
       "      <td>1.000000</td>\n",
       "      <td>9382.033000</td>\n",
       "    </tr>\n",
       "    <tr>\n",
       "      <th>75%</th>\n",
       "      <td>51.000000</td>\n",
       "      <td>34.693750</td>\n",
       "      <td>2.000000</td>\n",
       "      <td>16639.912515</td>\n",
       "    </tr>\n",
       "    <tr>\n",
       "      <th>max</th>\n",
       "      <td>64.000000</td>\n",
       "      <td>53.130000</td>\n",
       "      <td>5.000000</td>\n",
       "      <td>63770.428010</td>\n",
       "    </tr>\n",
       "  </tbody>\n",
       "</table>\n",
       "</div>"
      ],
      "text/plain": [
       "               age          bmi     children       charges\n",
       "count  1338.000000  1338.000000  1338.000000   1338.000000\n",
       "mean     39.207025    30.663397     1.094918  13270.422265\n",
       "std      14.049960     6.098187     1.205493  12110.011237\n",
       "min      18.000000    15.960000     0.000000   1121.873900\n",
       "25%      27.000000    26.296250     0.000000   4740.287150\n",
       "50%      39.000000    30.400000     1.000000   9382.033000\n",
       "75%      51.000000    34.693750     2.000000  16639.912515\n",
       "max      64.000000    53.130000     5.000000  63770.428010"
      ]
     },
     "execution_count": 237,
     "metadata": {},
     "output_type": "execute_result"
    }
   ],
   "source": [
    "df.describe()"
   ]
  },
  {
   "cell_type": "markdown",
   "id": "e1f8552b",
   "metadata": {},
   "source": [
    "1. This statistical data shows the that there are no missing values as the count of columns are same.\n",
    "2. mean is greater than median(50%).\n",
    "3. There is huge difference between the 75% and max which means there are outliers present in the dataset."
   ]
  },
  {
   "cell_type": "code",
   "execution_count": 238,
   "id": "b5730af2",
   "metadata": {},
   "outputs": [],
   "source": [
    "#converting caterogical data into numerical data\n",
    "df['sex']=df['sex'].map({'male':0,'female':1})\n",
    "df['smoker']=df['smoker'].map({'yes':1,'no':0})\n",
    "df['region']=df['region'].map({'northwest':0,'northeast':1,'southeast':2,'southwest':3})"
   ]
  },
  {
   "cell_type": "markdown",
   "id": "359d0313",
   "metadata": {},
   "source": [
    "Here we have converted all the caterogical data into numerical data so that working with the data will be easy"
   ]
  },
  {
   "cell_type": "code",
   "execution_count": 239,
   "id": "0aa640f4",
   "metadata": {},
   "outputs": [
    {
     "data": {
      "image/png": "[encoded data removed]",
      "text/plain": [
       "<Figure size 2500x2000 with 4 Axes>"
      ]
     },
     "metadata": {},
     "output_type": "display_data"
    }
   ],
   "source": [
    "features=['sex','children','smoker','region']\n",
    "plt.subplots(figsize=(25,20))\n",
    "for i, col in enumerate(features):\n",
    "    plt.subplot(2,2,i+1)\n",
    "    df.groupby(col).mean()['charges'].plot.bar()\n",
    "plt.show()"
   ]
  },
  {
   "cell_type": "markdown",
   "id": "8d17e4b6",
   "metadata": {},
   "source": [
    "This is the bargraph to show the features of the columns in comparison with the charges column.\n",
    "1. we can see that male charges is more than the female charges but there is not much difference.\n",
    "2. The smokers charges are high than the non-smokers.\n"
   ]
  },
  {
   "cell_type": "code",
   "execution_count": 240,
   "id": "ef75a0c0",
   "metadata": {},
   "outputs": [
    {
     "data": {
      "text/plain": [
       "<Axes: >"
      ]
     },
     "execution_count": 240,
     "metadata": {},
     "output_type": "execute_result"
    },
    {
     "data": {
      "image/png": "[encoded data removed]",
      "text/plain": [
       "<Figure size 640x480 with 1 Axes>"
      ]
     },
     "metadata": {},
     "output_type": "display_data"
    }
   ],
   "source": [
    "df.drop_duplicates(inplace=True)\n",
    "sns.boxplot(df)"
   ]
  },
  {
   "cell_type": "markdown",
   "id": "2f8f520b",
   "metadata": {},
   "source": [
    "dropping any duplicated values present in the data"
   ]
  },
  {
   "cell_type": "code",
   "execution_count": 241,
   "id": "277e51e3",
   "metadata": {},
   "outputs": [
    {
     "data": {
      "text/plain": [
       "0"
      ]
     },
     "execution_count": 241,
     "metadata": {},
     "output_type": "execute_result"
    }
   ],
   "source": [
    "df.duplicated().sum()"
   ]
  },
  {
   "cell_type": "markdown",
   "id": "a81f28a3",
   "metadata": {},
   "source": [
    "All duplicate values has been removed. There are 0 duplicate."
   ]
  },
  {
   "cell_type": "code",
   "execution_count": 242,
   "id": "cb0db67a",
   "metadata": {},
   "outputs": [],
   "source": [
    "#checking the correlation\n",
    "dfc=df.corr()"
   ]
  },
  {
   "cell_type": "code",
   "execution_count": 243,
   "id": "eddcfa53",
   "metadata": {},
   "outputs": [
    {
     "data": {
      "text/html": [
       "<div>\n",
       "<style scoped>\n",
       "    .dataframe tbody tr th:only-of-type {\n",
       "        vertical-align: middle;\n",
       "    }\n",
       "\n",
       "    .dataframe tbody tr th {\n",
       "        vertical-align: top;\n",
       "    }\n",
       "\n",
       "    .dataframe thead th {\n",
       "        text-align: right;\n",
       "    }\n",
       "</style>\n",
       "<table border=\"1\" class=\"dataframe\">\n",
       "  <thead>\n",
       "    <tr style=\"text-align: right;\">\n",
       "      <th></th>\n",
       "      <th>age</th>\n",
       "      <th>sex</th>\n",
       "      <th>bmi</th>\n",
       "      <th>children</th>\n",
       "      <th>smoker</th>\n",
       "      <th>region</th>\n",
       "      <th>charges</th>\n",
       "    </tr>\n",
       "  </thead>\n",
       "  <tbody>\n",
       "    <tr>\n",
       "      <th>age</th>\n",
       "      <td>1.000000</td>\n",
       "      <td>0.019814</td>\n",
       "      <td>0.109344</td>\n",
       "      <td>0.041536</td>\n",
       "      <td>-0.025587</td>\n",
       "      <td>0.001771</td>\n",
       "      <td>0.298308</td>\n",
       "    </tr>\n",
       "    <tr>\n",
       "      <th>sex</th>\n",
       "      <td>0.019814</td>\n",
       "      <td>1.000000</td>\n",
       "      <td>-0.046397</td>\n",
       "      <td>-0.017848</td>\n",
       "      <td>-0.076596</td>\n",
       "      <td>-0.008998</td>\n",
       "      <td>-0.058044</td>\n",
       "    </tr>\n",
       "    <tr>\n",
       "      <th>bmi</th>\n",
       "      <td>0.109344</td>\n",
       "      <td>-0.046397</td>\n",
       "      <td>1.000000</td>\n",
       "      <td>0.012755</td>\n",
       "      <td>0.003746</td>\n",
       "      <td>0.156784</td>\n",
       "      <td>0.198401</td>\n",
       "    </tr>\n",
       "    <tr>\n",
       "      <th>children</th>\n",
       "      <td>0.041536</td>\n",
       "      <td>-0.017848</td>\n",
       "      <td>0.012755</td>\n",
       "      <td>1.000000</td>\n",
       "      <td>0.007331</td>\n",
       "      <td>-0.002842</td>\n",
       "      <td>0.067389</td>\n",
       "    </tr>\n",
       "    <tr>\n",
       "      <th>smoker</th>\n",
       "      <td>-0.025587</td>\n",
       "      <td>-0.076596</td>\n",
       "      <td>0.003746</td>\n",
       "      <td>0.007331</td>\n",
       "      <td>1.000000</td>\n",
       "      <td>0.012736</td>\n",
       "      <td>0.787234</td>\n",
       "    </tr>\n",
       "    <tr>\n",
       "      <th>region</th>\n",
       "      <td>0.001771</td>\n",
       "      <td>-0.008998</td>\n",
       "      <td>0.156784</td>\n",
       "      <td>-0.002842</td>\n",
       "      <td>0.012736</td>\n",
       "      <td>1.000000</td>\n",
       "      <td>0.010767</td>\n",
       "    </tr>\n",
       "    <tr>\n",
       "      <th>charges</th>\n",
       "      <td>0.298308</td>\n",
       "      <td>-0.058044</td>\n",
       "      <td>0.198401</td>\n",
       "      <td>0.067389</td>\n",
       "      <td>0.787234</td>\n",
       "      <td>0.010767</td>\n",
       "      <td>1.000000</td>\n",
       "    </tr>\n",
       "  </tbody>\n",
       "</table>\n",
       "</div>"
      ],
      "text/plain": [
       "               age       sex       bmi  children    smoker    region   charges\n",
       "age       1.000000  0.019814  0.109344  0.041536 -0.025587  0.001771  0.298308\n",
       "sex       0.019814  1.000000 -0.046397 -0.017848 -0.076596 -0.008998 -0.058044\n",
       "bmi       0.109344 -0.046397  1.000000  0.012755  0.003746  0.156784  0.198401\n",
       "children  0.041536 -0.017848  0.012755  1.000000  0.007331 -0.002842  0.067389\n",
       "smoker   -0.025587 -0.076596  0.003746  0.007331  1.000000  0.012736  0.787234\n",
       "region    0.001771 -0.008998  0.156784 -0.002842  0.012736  1.000000  0.010767\n",
       "charges   0.298308 -0.058044  0.198401  0.067389  0.787234  0.010767  1.000000"
      ]
     },
     "execution_count": 243,
     "metadata": {},
     "output_type": "execute_result"
    }
   ],
   "source": [
    "dfc"
   ]
  },
  {
   "cell_type": "code",
   "execution_count": 244,
   "id": "ede30b5b",
   "metadata": {},
   "outputs": [
    {
     "data": {
      "image/png": "[encoded data removed]",
      "text/plain": [
       "<Figure size 1500x1000 with 2 Axes>"
      ]
     },
     "metadata": {},
     "output_type": "display_data"
    }
   ],
   "source": [
    "plt.figure(figsize=(15,10))\n",
    "sns.heatmap(df.corr(),linewidths=0.1,fmt='1g',linecolor='black',annot=True,cmap='Blues_r')\n",
    "plt.yticks(rotation=0);\n",
    "plt.show()"
   ]
  },
  {
   "cell_type": "markdown",
   "id": "02314851",
   "metadata": {},
   "source": [
    "This is the correlation chart, as we can see the smoker and sex are highly negatively correlated.\n",
    "where as smoker and charges are highly positively correlated.\n",
    "It is better to drop the sex column."
   ]
  },
  {
   "cell_type": "code",
   "execution_count": 245,
   "id": "dae11ccb",
   "metadata": {},
   "outputs": [],
   "source": [
    "#to drop sex column\n",
    "df.drop('sex',axis=1,inplace=True)"
   ]
  },
  {
   "cell_type": "code",
   "execution_count": 246,
   "id": "76a43027",
   "metadata": {},
   "outputs": [
    {
     "data": {
      "text/html": [
       "<div>\n",
       "<style scoped>\n",
       "    .dataframe tbody tr th:only-of-type {\n",
       "        vertical-align: middle;\n",
       "    }\n",
       "\n",
       "    .dataframe tbody tr th {\n",
       "        vertical-align: top;\n",
       "    }\n",
       "\n",
       "    .dataframe thead th {\n",
       "        text-align: right;\n",
       "    }\n",
       "</style>\n",
       "<table border=\"1\" class=\"dataframe\">\n",
       "  <thead>\n",
       "    <tr style=\"text-align: right;\">\n",
       "      <th></th>\n",
       "      <th>age</th>\n",
       "      <th>bmi</th>\n",
       "      <th>children</th>\n",
       "      <th>smoker</th>\n",
       "      <th>region</th>\n",
       "      <th>charges</th>\n",
       "    </tr>\n",
       "  </thead>\n",
       "  <tbody>\n",
       "    <tr>\n",
       "      <th>0</th>\n",
       "      <td>19</td>\n",
       "      <td>27.900</td>\n",
       "      <td>0</td>\n",
       "      <td>1</td>\n",
       "      <td>3</td>\n",
       "      <td>16884.92400</td>\n",
       "    </tr>\n",
       "    <tr>\n",
       "      <th>1</th>\n",
       "      <td>18</td>\n",
       "      <td>33.770</td>\n",
       "      <td>1</td>\n",
       "      <td>0</td>\n",
       "      <td>2</td>\n",
       "      <td>1725.55230</td>\n",
       "    </tr>\n",
       "    <tr>\n",
       "      <th>2</th>\n",
       "      <td>28</td>\n",
       "      <td>33.000</td>\n",
       "      <td>3</td>\n",
       "      <td>0</td>\n",
       "      <td>2</td>\n",
       "      <td>4449.46200</td>\n",
       "    </tr>\n",
       "    <tr>\n",
       "      <th>3</th>\n",
       "      <td>33</td>\n",
       "      <td>22.705</td>\n",
       "      <td>0</td>\n",
       "      <td>0</td>\n",
       "      <td>0</td>\n",
       "      <td>21984.47061</td>\n",
       "    </tr>\n",
       "    <tr>\n",
       "      <th>4</th>\n",
       "      <td>32</td>\n",
       "      <td>28.880</td>\n",
       "      <td>0</td>\n",
       "      <td>0</td>\n",
       "      <td>0</td>\n",
       "      <td>3866.85520</td>\n",
       "    </tr>\n",
       "    <tr>\n",
       "      <th>...</th>\n",
       "      <td>...</td>\n",
       "      <td>...</td>\n",
       "      <td>...</td>\n",
       "      <td>...</td>\n",
       "      <td>...</td>\n",
       "      <td>...</td>\n",
       "    </tr>\n",
       "    <tr>\n",
       "      <th>1333</th>\n",
       "      <td>50</td>\n",
       "      <td>30.970</td>\n",
       "      <td>3</td>\n",
       "      <td>0</td>\n",
       "      <td>0</td>\n",
       "      <td>10600.54830</td>\n",
       "    </tr>\n",
       "    <tr>\n",
       "      <th>1334</th>\n",
       "      <td>18</td>\n",
       "      <td>31.920</td>\n",
       "      <td>0</td>\n",
       "      <td>0</td>\n",
       "      <td>1</td>\n",
       "      <td>2205.98080</td>\n",
       "    </tr>\n",
       "    <tr>\n",
       "      <th>1335</th>\n",
       "      <td>18</td>\n",
       "      <td>36.850</td>\n",
       "      <td>0</td>\n",
       "      <td>0</td>\n",
       "      <td>2</td>\n",
       "      <td>1629.83350</td>\n",
       "    </tr>\n",
       "    <tr>\n",
       "      <th>1336</th>\n",
       "      <td>21</td>\n",
       "      <td>25.800</td>\n",
       "      <td>0</td>\n",
       "      <td>0</td>\n",
       "      <td>3</td>\n",
       "      <td>2007.94500</td>\n",
       "    </tr>\n",
       "    <tr>\n",
       "      <th>1337</th>\n",
       "      <td>61</td>\n",
       "      <td>29.070</td>\n",
       "      <td>0</td>\n",
       "      <td>1</td>\n",
       "      <td>0</td>\n",
       "      <td>29141.36030</td>\n",
       "    </tr>\n",
       "  </tbody>\n",
       "</table>\n",
       "<p>1337 rows × 6 columns</p>\n",
       "</div>"
      ],
      "text/plain": [
       "      age     bmi  children  smoker  region      charges\n",
       "0      19  27.900         0       1       3  16884.92400\n",
       "1      18  33.770         1       0       2   1725.55230\n",
       "2      28  33.000         3       0       2   4449.46200\n",
       "3      33  22.705         0       0       0  21984.47061\n",
       "4      32  28.880         0       0       0   3866.85520\n",
       "...   ...     ...       ...     ...     ...          ...\n",
       "1333   50  30.970         3       0       0  10600.54830\n",
       "1334   18  31.920         0       0       1   2205.98080\n",
       "1335   18  36.850         0       0       2   1629.83350\n",
       "1336   21  25.800         0       0       3   2007.94500\n",
       "1337   61  29.070         0       1       0  29141.36030\n",
       "\n",
       "[1337 rows x 6 columns]"
      ]
     },
     "execution_count": 246,
     "metadata": {},
     "output_type": "execute_result"
    }
   ],
   "source": [
    "df"
   ]
  },
  {
   "cell_type": "markdown",
   "id": "45a4d7fd",
   "metadata": {},
   "source": [
    "Here we can see that sex column has been dropped."
   ]
  },
  {
   "cell_type": "code",
   "execution_count": 247,
   "id": "e53cc414",
   "metadata": {},
   "outputs": [
    {
     "data": {
      "image/png": "[encoded data removed]",
      "text/plain": [
       "<Figure size 800x600 with 2 Axes>"
      ]
     },
     "metadata": {},
     "output_type": "display_data"
    }
   ],
   "source": [
    "plt.figure(figsize=(8,6))\n",
    "sns.heatmap(df.corr(),cmap='pink',annot=True)\n",
    "plt.show()"
   ]
  },
  {
   "cell_type": "markdown",
   "id": "599d782c",
   "metadata": {},
   "source": [
    "#This is the chart after dropping the sex column. Age is highly correlated with smoker."
   ]
  },
  {
   "cell_type": "code",
   "execution_count": 248,
   "id": "66aed99c",
   "metadata": {},
   "outputs": [
    {
     "data": {
      "image/png": "[encoded data removed]",
      "text/plain": [
       "<Figure size 1200x1400 with 6 Axes>"
      ]
     },
     "metadata": {},
     "output_type": "display_data"
    }
   ],
   "source": [
    "df.hist(bins=70, figsize=(12,14),legend=True)\n",
    "plt.show()"
   ]
  },
  {
   "cell_type": "markdown",
   "id": "ba7de2cd",
   "metadata": {},
   "source": [
    "It can be notice that age and charges have right skewness and rest are normal."
   ]
  },
  {
   "cell_type": "code",
   "execution_count": 249,
   "id": "a027bb2b",
   "metadata": {},
   "outputs": [
    {
     "data": {
      "image/png": "[encoded data removed]",
      "text/plain": [
       "<Figure size 500x500 with 1 Axes>"
      ]
     },
     "metadata": {},
     "output_type": "display_data"
    }
   ],
   "source": [
    "plt.figure(figsize=(5,5))\n",
    "sns.countplot(x='bmi',data=df)\n",
    "plt.title('bmi')\n",
    "plt.show()"
   ]
  },
  {
   "cell_type": "markdown",
   "id": "b2938353",
   "metadata": {},
   "source": [
    "This shows the bmi graph but charges can not be descriminate by it."
   ]
  },
  {
   "cell_type": "code",
   "execution_count": 250,
   "id": "2791d45c",
   "metadata": {},
   "outputs": [
    {
     "data": {
      "text/plain": [
       "age            Axes(0.125,0.786098;0.227941x0.0939024)\n",
       "bmi         Axes(0.398529,0.786098;0.227941x0.0939024)\n",
       "children    Axes(0.672059,0.786098;0.227941x0.0939024)\n",
       "smoker         Axes(0.125,0.673415;0.227941x0.0939024)\n",
       "region      Axes(0.398529,0.673415;0.227941x0.0939024)\n",
       "charges     Axes(0.672059,0.673415;0.227941x0.0939024)\n",
       "dtype: object"
      ]
     },
     "execution_count": 250,
     "metadata": {},
     "output_type": "execute_result"
    },
    {
     "data": {
      "text/plain": [
       "<Figure size 1500x2000 with 0 Axes>"
      ]
     },
     "metadata": {},
     "output_type": "display_data"
    },
    {
     "data": {
      "image/png": "[encoded data removed]",
      "text/plain": [
       "<Figure size 640x480 with 21 Axes>"
      ]
     },
     "metadata": {},
     "output_type": "display_data"
    }
   ],
   "source": [
    "#checking for outliers\n",
    "fig=plt.figure(figsize=(15,20))\n",
    "df.plot(kind='box',subplots=True,layout=(7,3))"
   ]
  },
  {
   "cell_type": "code",
   "execution_count": 251,
   "id": "0fd30433",
   "metadata": {},
   "outputs": [
    {
     "data": {
      "image/png": "[encoded data removed]",
      "text/plain": [
       "<Figure size 2000x2500 with 6 Axes>"
      ]
     },
     "metadata": {},
     "output_type": "display_data"
    }
   ],
   "source": [
    "plt.figure(figsize=(20,25))\n",
    "p=1\n",
    "for i in df:\n",
    "    if p<=13:\n",
    "        plt.subplot(5,4,p)\n",
    "        sns.boxplot(df[i])\n",
    "        plt.xlabel(i)\n",
    "        p+=1\n",
    "plt.show()  "
   ]
  },
  {
   "cell_type": "markdown",
   "id": "b3540814",
   "metadata": {},
   "source": [
    "We can see there is outliers present in 'bmi','smoker' and 'charges' column."
   ]
  },
  {
   "cell_type": "code",
   "execution_count": 252,
   "id": "64f907e4",
   "metadata": {},
   "outputs": [
    {
     "data": {
      "text/html": [
       "<div>\n",
       "<style scoped>\n",
       "    .dataframe tbody tr th:only-of-type {\n",
       "        vertical-align: middle;\n",
       "    }\n",
       "\n",
       "    .dataframe tbody tr th {\n",
       "        vertical-align: top;\n",
       "    }\n",
       "\n",
       "    .dataframe thead th {\n",
       "        text-align: right;\n",
       "    }\n",
       "</style>\n",
       "<table border=\"1\" class=\"dataframe\">\n",
       "  <thead>\n",
       "    <tr style=\"text-align: right;\">\n",
       "      <th></th>\n",
       "      <th>bmi</th>\n",
       "      <th>smoker</th>\n",
       "    </tr>\n",
       "  </thead>\n",
       "  <tbody>\n",
       "    <tr>\n",
       "      <th>0</th>\n",
       "      <td>0.453160</td>\n",
       "      <td>1.969660</td>\n",
       "    </tr>\n",
       "    <tr>\n",
       "      <th>1</th>\n",
       "      <td>0.509422</td>\n",
       "      <td>0.507702</td>\n",
       "    </tr>\n",
       "    <tr>\n",
       "      <th>2</th>\n",
       "      <td>0.383155</td>\n",
       "      <td>0.507702</td>\n",
       "    </tr>\n",
       "    <tr>\n",
       "      <th>3</th>\n",
       "      <td>1.305052</td>\n",
       "      <td>0.507702</td>\n",
       "    </tr>\n",
       "    <tr>\n",
       "      <th>4</th>\n",
       "      <td>0.292456</td>\n",
       "      <td>0.507702</td>\n",
       "    </tr>\n",
       "    <tr>\n",
       "      <th>...</th>\n",
       "      <td>...</td>\n",
       "      <td>...</td>\n",
       "    </tr>\n",
       "    <tr>\n",
       "      <th>1333</th>\n",
       "      <td>0.050269</td>\n",
       "      <td>0.507702</td>\n",
       "    </tr>\n",
       "    <tr>\n",
       "      <th>1334</th>\n",
       "      <td>0.206053</td>\n",
       "      <td>0.507702</td>\n",
       "    </tr>\n",
       "    <tr>\n",
       "      <th>1335</th>\n",
       "      <td>1.014490</td>\n",
       "      <td>0.507702</td>\n",
       "    </tr>\n",
       "    <tr>\n",
       "      <th>1336</th>\n",
       "      <td>0.797524</td>\n",
       "      <td>0.507702</td>\n",
       "    </tr>\n",
       "    <tr>\n",
       "      <th>1337</th>\n",
       "      <td>0.261299</td>\n",
       "      <td>1.969660</td>\n",
       "    </tr>\n",
       "  </tbody>\n",
       "</table>\n",
       "<p>1337 rows × 2 columns</p>\n",
       "</div>"
      ],
      "text/plain": [
       "           bmi    smoker\n",
       "0     0.453160  1.969660\n",
       "1     0.509422  0.507702\n",
       "2     0.383155  0.507702\n",
       "3     1.305052  0.507702\n",
       "4     0.292456  0.507702\n",
       "...        ...       ...\n",
       "1333  0.050269  0.507702\n",
       "1334  0.206053  0.507702\n",
       "1335  1.014490  0.507702\n",
       "1336  0.797524  0.507702\n",
       "1337  0.261299  1.969660\n",
       "\n",
       "[1337 rows x 2 columns]"
      ]
     },
     "execution_count": 252,
     "metadata": {},
     "output_type": "execute_result"
    }
   ],
   "source": [
    "#removing outliers\n",
    "out=df[['bmi','smoker']]\n",
    "z=np.abs(zscore(out))\n",
    "z"
   ]
  },
  {
   "cell_type": "code",
   "execution_count": 253,
   "id": "48f26c59",
   "metadata": {},
   "outputs": [
    {
     "data": {
      "text/plain": [
       "(array([ 116,  846, 1046, 1316], dtype=int64),\n",
       " array([0, 0, 0, 0], dtype=int64))"
      ]
     },
     "execution_count": 253,
     "metadata": {},
     "output_type": "execute_result"
    }
   ],
   "source": [
    "np.where(z>3)\n"
   ]
  },
  {
   "cell_type": "code",
   "execution_count": 254,
   "id": "29bc5bb9",
   "metadata": {},
   "outputs": [
    {
     "data": {
      "text/plain": [
       "(1333, 6)"
      ]
     },
     "execution_count": 254,
     "metadata": {},
     "output_type": "execute_result"
    }
   ],
   "source": [
    "df1=df[(z<3).all(axis=1)]\n",
    "df1.shape"
   ]
  },
  {
   "cell_type": "code",
   "execution_count": 255,
   "id": "9ad299e5",
   "metadata": {},
   "outputs": [
    {
     "data": {
      "text/plain": [
       "age         0.052714\n",
       "bmi         0.205541\n",
       "children    0.934451\n",
       "smoker      1.464636\n",
       "region     -0.035352\n",
       "charges     1.517177\n",
       "dtype: float64"
      ]
     },
     "execution_count": 255,
     "metadata": {},
     "output_type": "execute_result"
    }
   ],
   "source": [
    "#checking skewness\n",
    "df1.skew()"
   ]
  },
  {
   "cell_type": "code",
   "execution_count": 256,
   "id": "52ade4a2",
   "metadata": {},
   "outputs": [],
   "source": [
    "#distributing the data\n",
    "x=df1.iloc[:,0:-1]"
   ]
  },
  {
   "cell_type": "code",
   "execution_count": 257,
   "id": "d4d23e8e",
   "metadata": {},
   "outputs": [],
   "source": [
    "y=df1.iloc[:,-1]"
   ]
  },
  {
   "cell_type": "code",
   "execution_count": 258,
   "id": "2052206b",
   "metadata": {},
   "outputs": [
    {
     "name": "stdout",
     "output_type": "stream",
     "text": [
      "feature dimension (1333, 5)\n",
      "label dimension (1333,)\n"
     ]
    }
   ],
   "source": [
    "x=df1.drop('charges',axis=1)\n",
    "y=df1['charges']\n",
    "print('feature dimension',x.shape)\n",
    "print('label dimension',y.shape)"
   ]
  },
  {
   "cell_type": "code",
   "execution_count": 259,
   "id": "d2d13719",
   "metadata": {},
   "outputs": [
    {
     "data": {
      "text/plain": [
       "array([[-1.44391729, -0.45019112, -0.9099223 ,  1.97047808,  1.34285101],\n",
       "       [-1.51522515,  0.52799105, -0.08085434, -0.50749105,  0.4388003 ],\n",
       "       [-0.80214655,  0.39967754,  1.57728158, -0.50749105,  0.4388003 ],\n",
       "       ...,\n",
       "       [-1.51522515,  1.04124506, -0.9099223 , -0.50749105,  0.4388003 ],\n",
       "       [-1.30130157, -0.80013704, -0.9099223 , -0.50749105,  1.34285101],\n",
       "       [ 1.55101281, -0.25522125, -0.9099223 ,  1.97047808, -1.3693011 ]])"
      ]
     },
     "execution_count": 259,
     "metadata": {},
     "output_type": "execute_result"
    }
   ],
   "source": [
    "#scaling of data\n",
    "st=StandardScaler()\n",
    "x=st.fit_transform(x)\n",
    "x"
   ]
  },
  {
   "cell_type": "markdown",
   "id": "b8046044",
   "metadata": {},
   "source": [
    "# Model building"
   ]
  },
  {
   "cell_type": "code",
   "execution_count": 260,
   "id": "77858583",
   "metadata": {},
   "outputs": [],
   "source": [
    "from sklearn.metrics import mean_squared_error, mean_absolute_error\n",
    "from sklearn.metrics import r2_score\n",
    "from sklearn import datasets\n",
    "from sklearn.model_selection import GridSearchCV\n",
    "from sklearn import metrics\n",
    "from sklearn.linear_model import Ridge, Lasso"
   ]
  },
  {
   "cell_type": "code",
   "execution_count": 261,
   "id": "6f3e0059",
   "metadata": {},
   "outputs": [
    {
     "name": "stdout",
     "output_type": "stream",
     "text": [
      "Best accuracy 0.7961166203466971 at random state 12\n"
     ]
    }
   ],
   "source": [
    "maxAccu=0\n",
    "maxRs=0\n",
    "for i in range(1,200):\n",
    "    x_train,x_test,y_train,y_test=train_test_split(x,y,test_size=0.30,random_state=i)\n",
    "    lr=LinearRegression()\n",
    "    lr.fit(x_train,y_train)\n",
    "    pre=lr.predict(x_test)\n",
    "    acc=r2_score(y_test,pre)\n",
    "    if acc>maxAccu:\n",
    "        maxAccu=acc\n",
    "        maxRs=i\n",
    "print('Best accuracy',maxAccu,'at random state',maxRs)        \n",
    "    "
   ]
  },
  {
   "cell_type": "code",
   "execution_count": 262,
   "id": "7a89f691",
   "metadata": {},
   "outputs": [],
   "source": [
    "x_train,x_test,y_train,y_test=train_test_split(x,y,test_size=0.30,random_state=maxRs)"
   ]
  },
  {
   "cell_type": "code",
   "execution_count": 263,
   "id": "b6cffaad",
   "metadata": {},
   "outputs": [
    {
     "name": "stdout",
     "output_type": "stream",
     "text": [
      "R2 score: 0.7277852579382618\n",
      "R2 score training data: 79.5994739354543\n",
      "Mean absolute error: 3782.748869330233\n",
      "Mean square error: 31489772.94344122\n",
      "Root mean square error: 5611.574907585323\n"
     ]
    }
   ],
   "source": [
    "#Ridge\n",
    "rd=Ridge()\n",
    "rd.fit(x_train,y_train)\n",
    "pre=rd.predict(x_test)\n",
    "pred=rd.predict(x_train)\n",
    "print(\"R2 score:\",r2_score(y_train,pred))\n",
    "print(\"R2 score training data:\",r2_score(y_test,pre)*100)\n",
    "print('Mean absolute error:',mean_absolute_error(y_test,pre))\n",
    "print('Mean square error:',mean_squared_error(y_test,pre))\n",
    "print('Root mean square error:',np.sqrt(mean_squared_error(y_test,pre)))"
   ]
  },
  {
   "cell_type": "code",
   "execution_count": 264,
   "id": "c01b452f",
   "metadata": {},
   "outputs": [
    {
     "name": "stdout",
     "output_type": "stream",
     "text": [
      "-0.09872809470025312\n",
      "-6.696771404021629\n",
      "Mean absolute error: 8183.212073952402\n",
      "Mean square error: 164694630.652198\n",
      "Root mean square error: 12833.340588178824\n"
     ]
    }
   ],
   "source": [
    "#support vector regression\n",
    "svr=SVR()\n",
    "svr.fit(x_train,y_train)\n",
    "pre=svr.predict(x_test)\n",
    "pred=svr.predict(x_train)\n",
    "print(r2_score(y_train,pred))\n",
    "print(r2_score(y_test,pre)*100)\n",
    "print('Mean absolute error:',mean_absolute_error(y_test,pre))\n",
    "print('Mean square error:',mean_squared_error(y_test,pre))\n",
    "print('Root mean square error:',np.sqrt(mean_squared_error(y_test,pre)))"
   ]
  },
  {
   "cell_type": "code",
   "execution_count": 265,
   "id": "55d296c4",
   "metadata": {},
   "outputs": [
    {
     "name": "stdout",
     "output_type": "stream",
     "text": [
      "0.9725633989674777\n",
      "87.77598947489922\n",
      "Mean absolute error: 2451.8847245084157\n",
      "Mean square error: 18868695.575583\n",
      "Root mean square error: 4343.81118093121\n"
     ]
    }
   ],
   "source": [
    "#Randomforest\n",
    "ra=RandomForestRegressor()\n",
    "ra.fit(x_train,y_train)\n",
    "pre=ra.predict(x_test)\n",
    "pred=ra.predict(x_train)\n",
    "print(r2_score(y_train,pred))\n",
    "print(r2_score(y_test,pre)*100)\n",
    "print('Mean absolute error:',mean_absolute_error(y_test,pre))\n",
    "print('Mean square error:',mean_squared_error(y_test,pre))\n",
    "print('Root mean square error:',np.sqrt(mean_squared_error(y_test,pre)))"
   ]
  },
  {
   "cell_type": "code",
   "execution_count": 266,
   "id": "6c64729a",
   "metadata": {},
   "outputs": [
    {
     "name": "stdout",
     "output_type": "stream",
     "text": [
      "0.8617556832736712\n",
      "86.36035187939967\n",
      "Mean absolute error: 2766.2178490974998\n",
      "Mean square error: 21053840.52289654\n",
      "Root mean square error: 4588.446417132551\n"
     ]
    }
   ],
   "source": [
    "#KNN\n",
    "knn=KNN()\n",
    "knn.fit(x_train,y_train)\n",
    "pre=knn.predict(x_test)\n",
    "pred=knn.predict(x_train)\n",
    "print(r2_score(y_train,pred))\n",
    "print(r2_score(y_test,pre)*100)\n",
    "print('Mean absolute error:',mean_absolute_error(y_test,pre))\n",
    "print('Mean square error:',mean_squared_error(y_test,pre))\n",
    "print('Root mean square error:',np.sqrt(mean_squared_error(y_test,pre)))"
   ]
  },
  {
   "cell_type": "code",
   "execution_count": 267,
   "id": "4f3787d6",
   "metadata": {},
   "outputs": [
    {
     "name": "stdout",
     "output_type": "stream",
     "text": [
      "0.7277860656864474\n",
      "79.60984804277344\n",
      "Mean absolute error: 3780.9090427354317\n",
      "Mean square error: 31473759.715010893\n",
      "Root mean square error: 5610.147922738837\n"
     ]
    }
   ],
   "source": [
    "#Lasso\n",
    "las=Lasso()\n",
    "las.fit(x_train,y_train)\n",
    "pre=las.predict(x_test)\n",
    "pred=las.predict(x_train)\n",
    "print(r2_score(y_train,pred))\n",
    "print(r2_score(y_test,pre)*100)\n",
    "print('Mean absolute error:',mean_absolute_error(y_test,pre))\n",
    "print('Mean square error:',mean_squared_error(y_test,pre))\n",
    "print('Root mean square error:',np.sqrt(mean_squared_error(y_test,pre)))"
   ]
  },
  {
   "cell_type": "code",
   "execution_count": 268,
   "id": "42219863",
   "metadata": {},
   "outputs": [
    {
     "name": "stdout",
     "output_type": "stream",
     "text": [
      "0.9980333070000582\n",
      "85.78897031779698\n",
      "Mean absolute error: 2457.95702489275\n",
      "Mean square error: 21935811.682954367\n",
      "Root mean square error: 4683.568263936629\n"
     ]
    }
   ],
   "source": [
    "#Extratrees regressor\n",
    "ex=ExtraTreesRegressor()\n",
    "ex.fit(x_train,y_train)\n",
    "pre=ex.predict(x_test)\n",
    "pred=ex.predict(x_train)\n",
    "print(r2_score(y_train,pred))\n",
    "print(r2_score(y_test,pre)*100)\n",
    "print('Mean absolute error:',mean_absolute_error(y_test,pre))\n",
    "print('Mean square error:',mean_squared_error(y_test,pre))\n",
    "print('Root mean square error:',np.sqrt(mean_squared_error(y_test,pre)))"
   ]
  },
  {
   "cell_type": "code",
   "execution_count": 269,
   "id": "bc7ccab6",
   "metadata": {},
   "outputs": [
    {
     "name": "stdout",
     "output_type": "stream",
     "text": [
      "0.727786102073811\n",
      "79.6116620346697\n",
      "Mean absolute error: 3780.8685495240334\n",
      "Mean square error: 31470959.67971993\n",
      "Root mean square error: 5609.8983662558385\n"
     ]
    }
   ],
   "source": [
    "#Linear regression\n",
    "lr=LinearRegression()\n",
    "lr.fit(x_train,y_train)\n",
    "pre=lr.predict(x_test)\n",
    "pred=lr.predict(x_train)\n",
    "print(r2_score(y_train,pred))\n",
    "print(r2_score(y_test,pre)*100)\n",
    "print('Mean absolute error:',mean_absolute_error(y_test,pre))\n",
    "print('Mean square error:',mean_squared_error(y_test,pre))\n",
    "print('Root mean square error:',np.sqrt(mean_squared_error(y_test,pre)))"
   ]
  },
  {
   "cell_type": "markdown",
   "id": "be32d352",
   "metadata": {},
   "source": [
    "# Cross Validation"
   ]
  },
  {
   "cell_type": "code",
   "execution_count": 270,
   "id": "ef615a77",
   "metadata": {},
   "outputs": [
    {
     "name": "stdout",
     "output_type": "stream",
     "text": [
      "[0.7632967  0.70842215 0.77461892 0.73202342 0.75686148]\n",
      "0.7470445339698975\n",
      "difference between R2score and cross validation 4.907208637679961\n"
     ]
    }
   ],
   "source": [
    "# Cv score for Ridge\n",
    "score= cross_val_score(rd,x,y,cv=5,scoring='r2')\n",
    "print(score)\n",
    "print(score.mean())\n",
    "print('difference between R2score and cross validation',(r2_score(y_test,pre)-score.mean())*100)"
   ]
  },
  {
   "cell_type": "code",
   "execution_count": 271,
   "id": "dfb6881b",
   "metadata": {},
   "outputs": [
    {
     "name": "stdout",
     "output_type": "stream",
     "text": [
      "[-0.10796901 -0.10764763 -0.07114513 -0.10101818 -0.10357919]\n",
      "-0.09827182762511386\n",
      "difference between R2score and cross validation 89.43884479718109\n"
     ]
    }
   ],
   "source": [
    "# Cv score for support vector\n",
    "score= cross_val_score(svr,x,y,cv=5,scoring='r2')\n",
    "print(score)\n",
    "print(score.mean())\n",
    "print('difference between R2score and cross validation',(r2_score(y_test,pre)-score.mean())*100)"
   ]
  },
  {
   "cell_type": "code",
   "execution_count": 272,
   "id": "9cdcc90c",
   "metadata": {},
   "outputs": [
    {
     "name": "stdout",
     "output_type": "stream",
     "text": [
      "[0.8497119  0.77070295 0.86987625 0.83344895 0.85368661]\n",
      "0.8354853324177924\n",
      "difference between R2score and cross validation -3.936871207109538\n"
     ]
    }
   ],
   "source": [
    "# Cv score for Random forest\n",
    "score= cross_val_score(ra,x,y,cv=5,scoring='r2')\n",
    "print(score)\n",
    "print(score.mean())\n",
    "print('difference between R2score and cross validation',(r2_score(y_test,pre)-score.mean())*100)"
   ]
  },
  {
   "cell_type": "code",
   "execution_count": 273,
   "id": "29574b67",
   "metadata": {},
   "outputs": [
    {
     "name": "stdout",
     "output_type": "stream",
     "text": [
      "[0.83171249 0.78342281 0.85064824 0.82708839 0.82286562]\n",
      "0.8231475102026898\n",
      "difference between R2score and cross validation -2.703088985599278\n"
     ]
    }
   ],
   "source": [
    "# Cv score for KNN\n",
    "score= cross_val_score(knn,x,y,cv=5,scoring='r2')\n",
    "print(score)\n",
    "print(score.mean())\n",
    "print('difference between R2score and cross validation',(r2_score(y_test,pre)-score.mean())*100)"
   ]
  },
  {
   "cell_type": "code",
   "execution_count": 274,
   "id": "012adc2e",
   "metadata": {},
   "outputs": [
    {
     "name": "stdout",
     "output_type": "stream",
     "text": [
      "[0.76329336 0.70835236 0.77470063 0.73196589 0.75689389]\n",
      "0.7470412248281029\n",
      "difference between R2score and cross validation 4.9075395518594185\n"
     ]
    }
   ],
   "source": [
    "# Cv score for lasso\n",
    "score= cross_val_score(las,x,y,cv=5,scoring='r2')\n",
    "print(score)\n",
    "print(score.mean())\n",
    "print('difference between R2score and cross validation',(r2_score(y_test,pre)-score.mean())*100)"
   ]
  },
  {
   "cell_type": "code",
   "execution_count": 275,
   "id": "fc10d718",
   "metadata": {},
   "outputs": [
    {
     "name": "stdout",
     "output_type": "stream",
     "text": [
      "[0.82626542 0.73346147 0.86741836 0.83345966 0.82750733]\n",
      "0.8176224487029978\n",
      "difference between R2score and cross validation -2.150582835630077\n"
     ]
    }
   ],
   "source": [
    "# Cv score for Extatrees regressor\n",
    "score= cross_val_score(ex,x,y,cv=5,scoring='r2')\n",
    "print(score)\n",
    "print(score.mean())\n",
    "print('difference between R2score and cross validation',(r2_score(y_test,pre)-score.mean())*100)"
   ]
  },
  {
   "cell_type": "code",
   "execution_count": 276,
   "id": "5d51bc7c",
   "metadata": {},
   "outputs": [
    {
     "name": "stdout",
     "output_type": "stream",
     "text": [
      "[0.76329455 0.70832195 0.77472269 0.73196575 0.75689367]\n",
      "0.7470397236693899\n",
      "difference between R2score and cross validation 4.907689667730719\n"
     ]
    }
   ],
   "source": [
    "# Cv score for Linear regression\n",
    "score= cross_val_score(lr,x,y,cv=5,scoring='r2')\n",
    "print(score)\n",
    "print(score.mean())\n",
    "print('difference between R2score and cross validation',(r2_score(y_test,pre)-score.mean())*100)"
   ]
  },
  {
   "cell_type": "markdown",
   "id": "1f17f68b",
   "metadata": {},
   "source": [
    "ExtraTrees regressor is our best model as the difference between R2 score and cross validation score is least"
   ]
  },
  {
   "cell_type": "markdown",
   "id": "ace6079f",
   "metadata": {},
   "source": [
    "# Setting Paramaters"
   ]
  },
  {
   "cell_type": "code",
   "execution_count": 277,
   "id": "6d5af73f",
   "metadata": {},
   "outputs": [],
   "source": [
    "from sklearn import datasets\n",
    "from sklearn.model_selection import GridSearchCV\n",
    "from sklearn import metrics"
   ]
  },
  {
   "cell_type": "code",
   "execution_count": 278,
   "id": "f4d80a5a",
   "metadata": {},
   "outputs": [
    {
     "name": "stdout",
     "output_type": "stream",
     "text": [
      "{'ccp_alpha': 0.0, 'criterion': 'poisson', 'n_estimators': 50, 'n_jobs': None}\n"
     ]
    }
   ],
   "source": [
    "para={'n_estimators':[50,80,100],\n",
    "      'criterion':['squared_error','poisson','absolute_error'],\n",
    "     'n_jobs':['int',None],\n",
    "     'ccp_alpha':[0.0]}\n",
    "ex_cv=GridSearchCV(ex,para,cv=5)\n",
    "ex_cv.fit(x_train,y_train)\n",
    "print(ex_cv.best_params_)"
   ]
  },
  {
   "cell_type": "code",
   "execution_count": 279,
   "id": "c9a29ddc",
   "metadata": {},
   "outputs": [
    {
     "name": "stdout",
     "output_type": "stream",
     "text": [
      "0.8566261986860378\n"
     ]
    }
   ],
   "source": [
    "ex_new=ExtraTreesRegressor(criterion='poisson',ccp_alpha=0.0,n_jobs=None,n_estimators=100)\n",
    "ex_new.fit(x_train,y_train)\n",
    "y_pred_new=ex_new.predict(x_test)\n",
    "print(metrics.r2_score(y_test,y_pred_new))"
   ]
  },
  {
   "cell_type": "code",
   "execution_count": 280,
   "id": "9012fd8b",
   "metadata": {},
   "outputs": [
    {
     "name": "stdout",
     "output_type": "stream",
     "text": [
      "R2 score: 0.8578012036929337\n",
      "mean absolute error: 2437.4503536161246\n",
      "mean square error; 21949472.255630694\n",
      "root mean squre error: 4685.026387933231\n"
     ]
    }
   ],
   "source": [
    "ex_new.fit(x_train,y_train)\n",
    "pre=ex_new.predict(x_test)\n",
    "print('R2 score:',r2_score(y_test,pre))\n",
    "print('mean absolute error:',mean_absolute_error(y_test,pre))\n",
    "print('mean square error;',mean_squared_error(y_test,pre))\n",
    "print('root mean squre error:',np.sqrt(mean_squared_error(y_test,pre)))"
   ]
  },
  {
   "cell_type": "code",
   "execution_count": 281,
   "id": "09f0d01e",
   "metadata": {},
   "outputs": [],
   "source": [
    "import joblib\n",
    "import pickle\n",
    "filename=\"Medical insurance.pkl\"\n",
    "pickle.dump(ex_new,open(filename,'wb'))"
   ]
  },
  {
   "cell_type": "code",
   "execution_count": 282,
   "id": "d412bf34",
   "metadata": {},
   "outputs": [],
   "source": [
    "load_m=pickle.load(open('Medical insurance.pkl','rb'))"
   ]
  },
  {
   "cell_type": "code",
   "execution_count": 283,
   "id": "1c792934",
   "metadata": {},
   "outputs": [
    {
     "name": "stdout",
     "output_type": "stream",
     "text": [
      "85.78012036929337\n"
     ]
    }
   ],
   "source": [
    "result=load_m.score(x_test,y_test)\n",
    "print(result*100)"
   ]
  },
  {
   "cell_type": "code",
   "execution_count": 284,
   "id": "b745c4b2",
   "metadata": {},
   "outputs": [
    {
     "data": {
      "text/html": [
       "<div>\n",
       "<style scoped>\n",
       "    .dataframe tbody tr th:only-of-type {\n",
       "        vertical-align: middle;\n",
       "    }\n",
       "\n",
       "    .dataframe tbody tr th {\n",
       "        vertical-align: top;\n",
       "    }\n",
       "\n",
       "    .dataframe thead th {\n",
       "        text-align: right;\n",
       "    }\n",
       "</style>\n",
       "<table border=\"1\" class=\"dataframe\">\n",
       "  <thead>\n",
       "    <tr style=\"text-align: right;\">\n",
       "      <th></th>\n",
       "      <th>0</th>\n",
       "      <th>1</th>\n",
       "      <th>2</th>\n",
       "      <th>3</th>\n",
       "      <th>4</th>\n",
       "      <th>5</th>\n",
       "      <th>6</th>\n",
       "      <th>7</th>\n",
       "      <th>8</th>\n",
       "      <th>9</th>\n",
       "      <th>...</th>\n",
       "      <th>390</th>\n",
       "      <th>391</th>\n",
       "      <th>392</th>\n",
       "      <th>393</th>\n",
       "      <th>394</th>\n",
       "      <th>395</th>\n",
       "      <th>396</th>\n",
       "      <th>397</th>\n",
       "      <th>398</th>\n",
       "      <th>399</th>\n",
       "    </tr>\n",
       "  </thead>\n",
       "  <tbody>\n",
       "    <tr>\n",
       "      <th>predicted</th>\n",
       "      <td>7299.60186</td>\n",
       "      <td>8807.055045</td>\n",
       "      <td>13868.99202</td>\n",
       "      <td>5727.559848</td>\n",
       "      <td>1802.626102</td>\n",
       "      <td>5189.975804</td>\n",
       "      <td>4608.671425</td>\n",
       "      <td>16430.261028</td>\n",
       "      <td>3466.721054</td>\n",
       "      <td>13471.525597</td>\n",
       "      <td>...</td>\n",
       "      <td>48324.536593</td>\n",
       "      <td>5158.979404</td>\n",
       "      <td>3742.154086</td>\n",
       "      <td>4381.166216</td>\n",
       "      <td>4326.109787</td>\n",
       "      <td>1743.4924</td>\n",
       "      <td>5683.921106</td>\n",
       "      <td>10065.984644</td>\n",
       "      <td>4184.35641</td>\n",
       "      <td>11812.865925</td>\n",
       "    </tr>\n",
       "    <tr>\n",
       "      <th>orginal</th>\n",
       "      <td>5708.86700</td>\n",
       "      <td>8310.839150</td>\n",
       "      <td>27322.73386</td>\n",
       "      <td>2866.091000</td>\n",
       "      <td>1146.796600</td>\n",
       "      <td>5267.818150</td>\n",
       "      <td>4032.240700</td>\n",
       "      <td>16115.304500</td>\n",
       "      <td>12609.887020</td>\n",
       "      <td>13429.035400</td>\n",
       "      <td>...</td>\n",
       "      <td>48673.558800</td>\n",
       "      <td>4670.640000</td>\n",
       "      <td>2755.020950</td>\n",
       "      <td>4243.590050</td>\n",
       "      <td>4349.462000</td>\n",
       "      <td>1256.2990</td>\n",
       "      <td>6128.797450</td>\n",
       "      <td>8442.667000</td>\n",
       "      <td>2842.76075</td>\n",
       "      <td>11363.283200</td>\n",
       "    </tr>\n",
       "  </tbody>\n",
       "</table>\n",
       "<p>2 rows × 400 columns</p>\n",
       "</div>"
      ],
      "text/plain": [
       "                  0            1            2            3            4    \\\n",
       "predicted  7299.60186  8807.055045  13868.99202  5727.559848  1802.626102   \n",
       "orginal    5708.86700  8310.839150  27322.73386  2866.091000  1146.796600   \n",
       "\n",
       "                   5            6             7             8             9    \\\n",
       "predicted  5189.975804  4608.671425  16430.261028   3466.721054  13471.525597   \n",
       "orginal    5267.818150  4032.240700  16115.304500  12609.887020  13429.035400   \n",
       "\n",
       "           ...           390          391          392          393  \\\n",
       "predicted  ...  48324.536593  5158.979404  3742.154086  4381.166216   \n",
       "orginal    ...  48673.558800  4670.640000  2755.020950  4243.590050   \n",
       "\n",
       "                   394        395          396           397         398  \\\n",
       "predicted  4326.109787  1743.4924  5683.921106  10065.984644  4184.35641   \n",
       "orginal    4349.462000  1256.2990  6128.797450   8442.667000  2842.76075   \n",
       "\n",
       "                    399  \n",
       "predicted  11812.865925  \n",
       "orginal    11363.283200  \n",
       "\n",
       "[2 rows x 400 columns]"
      ]
     },
     "execution_count": 284,
     "metadata": {},
     "output_type": "execute_result"
    }
   ],
   "source": [
    "con=pd.DataFrame([load_m.predict(x_test)[:],y_test[:]],index=['predicted','orginal'])\n",
    "con"
   ]
  },
  {
   "cell_type": "code",
   "execution_count": null,
   "id": "be9d1ae9",
   "metadata": {},
   "outputs": [],
   "source": []
  }
 ],
 "metadata": {
  "kernelspec": {
   "display_name": "Python 3 (ipykernel)",
   "language": "python",
   "name": "python3"
  },
  "language_info": {
   "codemirror_mode": {
    "name": "ipython",
    "version": 3
   },
   "file_extension": ".py",
   "mimetype": "text/x-python",
   "name": "python",
   "nbconvert_exporter": "python",
   "pygments_lexer": "ipython3",
   "version": "3.11.4"
  }
 },
 "nbformat": 4,
 "nbformat_minor": 5
}
